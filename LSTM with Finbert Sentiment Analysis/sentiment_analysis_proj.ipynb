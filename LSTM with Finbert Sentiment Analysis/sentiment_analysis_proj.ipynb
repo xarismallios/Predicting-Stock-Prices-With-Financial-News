{
 "cells": [
  {
   "cell_type": "code",
   "execution_count": 1,
   "metadata": {
    "scrolled": true
   },
   "outputs": [
    {
     "data": {
      "text/html": [
       "<div>\n",
       "<style scoped>\n",
       "    .dataframe tbody tr th:only-of-type {\n",
       "        vertical-align: middle;\n",
       "    }\n",
       "\n",
       "    .dataframe tbody tr th {\n",
       "        vertical-align: top;\n",
       "    }\n",
       "\n",
       "    .dataframe thead th {\n",
       "        text-align: right;\n",
       "    }\n",
       "</style>\n",
       "<table border=\"1\" class=\"dataframe\">\n",
       "  <thead>\n",
       "    <tr style=\"text-align: right;\">\n",
       "      <th></th>\n",
       "      <th>id</th>\n",
       "      <th>ticker</th>\n",
       "      <th>title</th>\n",
       "      <th>category</th>\n",
       "      <th>content</th>\n",
       "      <th>release_date</th>\n",
       "      <th>provider</th>\n",
       "      <th>url</th>\n",
       "      <th>article_id</th>\n",
       "    </tr>\n",
       "  </thead>\n",
       "  <tbody>\n",
       "    <tr>\n",
       "      <td>221498</td>\n",
       "      <td>443014</td>\n",
       "      <td>T</td>\n",
       "      <td>TECO Energy  No Big Change Expected</td>\n",
       "      <td>opinion</td>\n",
       "      <td>In this article  we introduce a tentative pric...</td>\n",
       "      <td>2012-11-22</td>\n",
       "      <td>Ivan Kitov</td>\n",
       "      <td>https://www.investing.com/analysis/teco-energy...</td>\n",
       "      <td>144622</td>\n",
       "    </tr>\n",
       "    <tr>\n",
       "      <td>221499</td>\n",
       "      <td>443015</td>\n",
       "      <td>T</td>\n",
       "      <td>U S  Stocks Finish Higher On Positive Employme...</td>\n",
       "      <td>opinion</td>\n",
       "      <td>U S  stocks closed with modest gains after hov...</td>\n",
       "      <td>2012-12-06</td>\n",
       "      <td>Midnight Trader</td>\n",
       "      <td>https://www.investing.com/analysis/u.s.-stocks...</td>\n",
       "      <td>146509</td>\n",
       "    </tr>\n",
       "    <tr>\n",
       "      <td>221500</td>\n",
       "      <td>443016</td>\n",
       "      <td>T</td>\n",
       "      <td>The Rare Earth Sector Needs These Three Things...</td>\n",
       "      <td>opinion</td>\n",
       "      <td>For too long  the rare earth space has operate...</td>\n",
       "      <td>2012-12-19</td>\n",
       "      <td>The Gold Report</td>\n",
       "      <td>https://www.investing.com/analysis/the-rare-ea...</td>\n",
       "      <td>148264</td>\n",
       "    </tr>\n",
       "    <tr>\n",
       "      <td>221501</td>\n",
       "      <td>443017</td>\n",
       "      <td>T</td>\n",
       "      <td>Autonation s Share May Fall In Q4</td>\n",
       "      <td>opinion</td>\n",
       "      <td>Here we revisit our price model for AutoNation...</td>\n",
       "      <td>2012-11-13</td>\n",
       "      <td>Ivan Kitov</td>\n",
       "      <td>https://www.investing.com/analysis/autonation'...</td>\n",
       "      <td>143414</td>\n",
       "    </tr>\n",
       "    <tr>\n",
       "      <td>221502</td>\n",
       "      <td>443018</td>\n",
       "      <td>T</td>\n",
       "      <td>India s Gold Demand Rises While China Cools</td>\n",
       "      <td>opinion</td>\n",
       "      <td>Gold demand overall is high as Market sentimen...</td>\n",
       "      <td>2012-11-15</td>\n",
       "      <td>Commodity Trade Mantra</td>\n",
       "      <td>https://www.investing.com/analysis/india’s-gol...</td>\n",
       "      <td>143727</td>\n",
       "    </tr>\n",
       "    <tr>\n",
       "      <td>221503</td>\n",
       "      <td>443019</td>\n",
       "      <td>T</td>\n",
       "      <td>Pitney Bowes  Share Price May Continue Its Lon...</td>\n",
       "      <td>opinion</td>\n",
       "      <td>This time  we would like to revisit our determ...</td>\n",
       "      <td>2012-11-18</td>\n",
       "      <td>Ivan Kitov</td>\n",
       "      <td>https://www.investing.com/analysis/pitney-bowe...</td>\n",
       "      <td>144038</td>\n",
       "    </tr>\n",
       "    <tr>\n",
       "      <td>221504</td>\n",
       "      <td>443020</td>\n",
       "      <td>T</td>\n",
       "      <td>Spain  33  Unemployed In 2013</td>\n",
       "      <td>opinion</td>\n",
       "      <td>A year ago   using the LSQ technique as applie...</td>\n",
       "      <td>2012-10-14</td>\n",
       "      <td>Ivan Kitov</td>\n",
       "      <td>https://www.investing.com/analysis/spain:-33-u...</td>\n",
       "      <td>139702</td>\n",
       "    </tr>\n",
       "    <tr>\n",
       "      <td>221505</td>\n",
       "      <td>443021</td>\n",
       "      <td>T</td>\n",
       "      <td>S P 500 Returns Imply Real GDP Growth Of 4  In...</td>\n",
       "      <td>opinion</td>\n",
       "      <td>We have been following the link between the S ...</td>\n",
       "      <td>2012-10-14</td>\n",
       "      <td>Ivan Kitov</td>\n",
       "      <td>https://www.investing.com/analysis/s-p-500-ret...</td>\n",
       "      <td>139747</td>\n",
       "    </tr>\n",
       "    <tr>\n",
       "      <td>221506</td>\n",
       "      <td>443022</td>\n",
       "      <td>T</td>\n",
       "      <td>A Critical Metals Mixed Bag  Chris Ecclestone</td>\n",
       "      <td>opinion</td>\n",
       "      <td>A flood of companies scrambled to capitalize o...</td>\n",
       "      <td>2012-10-31</td>\n",
       "      <td>The Gold Report</td>\n",
       "      <td>https://www.investing.com/analysis/a-critical-...</td>\n",
       "      <td>141819</td>\n",
       "    </tr>\n",
       "    <tr>\n",
       "      <td>221507</td>\n",
       "      <td>443023</td>\n",
       "      <td>T</td>\n",
       "      <td>Weighing The Week Ahead  Time For A Confidence...</td>\n",
       "      <td>opinion</td>\n",
       "      <td>Everyone agrees that the economic recovery has...</td>\n",
       "      <td>2012-09-24</td>\n",
       "      <td>Jeff Miller</td>\n",
       "      <td>https://www.investing.com/analysis/weighing-th...</td>\n",
       "      <td>137387</td>\n",
       "    </tr>\n",
       "    <tr>\n",
       "      <td>221508</td>\n",
       "      <td>443024</td>\n",
       "      <td>T</td>\n",
       "      <td>Crude And Steel Still In Sync</td>\n",
       "      <td>opinion</td>\n",
       "      <td>We have been reporting on the trade off betwee...</td>\n",
       "      <td>2012-10-04</td>\n",
       "      <td>Ivan Kitov</td>\n",
       "      <td>https://www.investing.com/analysis/crude-and-s...</td>\n",
       "      <td>138733</td>\n",
       "    </tr>\n",
       "    <tr>\n",
       "      <td>221509</td>\n",
       "      <td>443025</td>\n",
       "      <td>T</td>\n",
       "      <td>Forget AT T  This Is The Telecom Stock You Sho...</td>\n",
       "      <td>opinion</td>\n",
       "      <td>It s the largest cell phone provider in the wo...</td>\n",
       "      <td>2012-05-30</td>\n",
       "      <td>StreetAuthority</td>\n",
       "      <td>https://www.investing.com/analysis/forget-at-t...</td>\n",
       "      <td>124829</td>\n",
       "    </tr>\n",
       "    <tr>\n",
       "      <td>221510</td>\n",
       "      <td>443026</td>\n",
       "      <td>T</td>\n",
       "      <td>Wall Street Exposed   Part 3   How Dividends C...</td>\n",
       "      <td>opinion</td>\n",
       "      <td>Before we dicuss how the mechanism of dividend...</td>\n",
       "      <td>2012-07-16</td>\n",
       "      <td>Portfolio Cafe</td>\n",
       "      <td>https://www.investing.com/analysis/wall-street...</td>\n",
       "      <td>129651</td>\n",
       "    </tr>\n",
       "    <tr>\n",
       "      <td>221511</td>\n",
       "      <td>443027</td>\n",
       "      <td>T</td>\n",
       "      <td>Weighing The Week Ahead  It s All About Jobs</td>\n",
       "      <td>opinion</td>\n",
       "      <td>From start to finish  the coming week will hav...</td>\n",
       "      <td>2012-09-02</td>\n",
       "      <td>Jeff Miller</td>\n",
       "      <td>https://www.investing.com/analysis/weighing-th...</td>\n",
       "      <td>134926</td>\n",
       "    </tr>\n",
       "    <tr>\n",
       "      <td>221512</td>\n",
       "      <td>443028</td>\n",
       "      <td>T</td>\n",
       "      <td>Leap Wireless  LEAP    JPM Note and AT T   T M...</td>\n",
       "      <td>opinion</td>\n",
       "      <td>Leap Wireless International  Inc   Leap  is a ...</td>\n",
       "      <td>2011-12-31</td>\n",
       "      <td>Ophir Gottlieb</td>\n",
       "      <td>https://www.investing.com/analysis/leap-wirele...</td>\n",
       "      <td>110079</td>\n",
       "    </tr>\n",
       "  </tbody>\n",
       "</table>\n",
       "</div>"
      ],
      "text/plain": [
       "            id ticker                                              title  \\\n",
       "221498  443014      T               TECO Energy  No Big Change Expected    \n",
       "221499  443015      T  U S  Stocks Finish Higher On Positive Employme...   \n",
       "221500  443016      T  The Rare Earth Sector Needs These Three Things...   \n",
       "221501  443017      T                 Autonation s Share May Fall In Q4    \n",
       "221502  443018      T       India s Gold Demand Rises While China Cools    \n",
       "221503  443019      T  Pitney Bowes  Share Price May Continue Its Lon...   \n",
       "221504  443020      T                    Spain  33  Unemployed In 2013     \n",
       "221505  443021      T  S P 500 Returns Imply Real GDP Growth Of 4  In...   \n",
       "221506  443022      T      A Critical Metals Mixed Bag  Chris Ecclestone   \n",
       "221507  443023      T  Weighing The Week Ahead  Time For A Confidence...   \n",
       "221508  443024      T                     Crude And Steel Still In Sync    \n",
       "221509  443025      T  Forget AT T  This Is The Telecom Stock You Sho...   \n",
       "221510  443026      T  Wall Street Exposed   Part 3   How Dividends C...   \n",
       "221511  443027      T       Weighing The Week Ahead  It s All About Jobs   \n",
       "221512  443028      T  Leap Wireless  LEAP    JPM Note and AT T   T M...   \n",
       "\n",
       "       category                                            content  \\\n",
       "221498  opinion  In this article  we introduce a tentative pric...   \n",
       "221499  opinion  U S  stocks closed with modest gains after hov...   \n",
       "221500  opinion  For too long  the rare earth space has operate...   \n",
       "221501  opinion  Here we revisit our price model for AutoNation...   \n",
       "221502  opinion  Gold demand overall is high as Market sentimen...   \n",
       "221503  opinion  This time  we would like to revisit our determ...   \n",
       "221504  opinion  A year ago   using the LSQ technique as applie...   \n",
       "221505  opinion  We have been following the link between the S ...   \n",
       "221506  opinion  A flood of companies scrambled to capitalize o...   \n",
       "221507  opinion  Everyone agrees that the economic recovery has...   \n",
       "221508  opinion  We have been reporting on the trade off betwee...   \n",
       "221509  opinion  It s the largest cell phone provider in the wo...   \n",
       "221510  opinion  Before we dicuss how the mechanism of dividend...   \n",
       "221511  opinion  From start to finish  the coming week will hav...   \n",
       "221512  opinion  Leap Wireless International  Inc   Leap  is a ...   \n",
       "\n",
       "       release_date                provider  \\\n",
       "221498   2012-11-22              Ivan Kitov   \n",
       "221499   2012-12-06         Midnight Trader   \n",
       "221500   2012-12-19         The Gold Report   \n",
       "221501   2012-11-13              Ivan Kitov   \n",
       "221502   2012-11-15  Commodity Trade Mantra   \n",
       "221503   2012-11-18              Ivan Kitov   \n",
       "221504   2012-10-14              Ivan Kitov   \n",
       "221505   2012-10-14              Ivan Kitov   \n",
       "221506   2012-10-31         The Gold Report   \n",
       "221507   2012-09-24             Jeff Miller   \n",
       "221508   2012-10-04              Ivan Kitov   \n",
       "221509   2012-05-30         StreetAuthority   \n",
       "221510   2012-07-16          Portfolio Cafe   \n",
       "221511   2012-09-02             Jeff Miller   \n",
       "221512   2011-12-31          Ophir Gottlieb   \n",
       "\n",
       "                                                      url  article_id  \n",
       "221498  https://www.investing.com/analysis/teco-energy...      144622  \n",
       "221499  https://www.investing.com/analysis/u.s.-stocks...      146509  \n",
       "221500  https://www.investing.com/analysis/the-rare-ea...      148264  \n",
       "221501  https://www.investing.com/analysis/autonation'...      143414  \n",
       "221502  https://www.investing.com/analysis/india’s-gol...      143727  \n",
       "221503  https://www.investing.com/analysis/pitney-bowe...      144038  \n",
       "221504  https://www.investing.com/analysis/spain:-33-u...      139702  \n",
       "221505  https://www.investing.com/analysis/s-p-500-ret...      139747  \n",
       "221506  https://www.investing.com/analysis/a-critical-...      141819  \n",
       "221507  https://www.investing.com/analysis/weighing-th...      137387  \n",
       "221508  https://www.investing.com/analysis/crude-and-s...      138733  \n",
       "221509  https://www.investing.com/analysis/forget-at-t...      124829  \n",
       "221510  https://www.investing.com/analysis/wall-street...      129651  \n",
       "221511  https://www.investing.com/analysis/weighing-th...      134926  \n",
       "221512  https://www.investing.com/analysis/leap-wirele...      110079  "
      ]
     },
     "execution_count": 1,
     "metadata": {},
     "output_type": "execute_result"
    }
   ],
   "source": [
    "import pandas as pd\n",
    "import numpy as np\n",
    "\n",
    "news = pd.read_csv(r'C:\\Users\\nicko\\Desktop\\archive\\us_equities_news_dataset.csv')\n",
    "news.tail(15)"
   ]
  },
  {
   "cell_type": "code",
   "execution_count": 2,
   "metadata": {},
   "outputs": [],
   "source": [
    "pd.set_option('display.max_colwidth', -1)"
   ]
  },
  {
   "cell_type": "code",
   "execution_count": 3,
   "metadata": {},
   "outputs": [
    {
     "data": {
      "text/html": [
       "<div>\n",
       "<style scoped>\n",
       "    .dataframe tbody tr th:only-of-type {\n",
       "        vertical-align: middle;\n",
       "    }\n",
       "\n",
       "    .dataframe tbody tr th {\n",
       "        vertical-align: top;\n",
       "    }\n",
       "\n",
       "    .dataframe thead th {\n",
       "        text-align: right;\n",
       "    }\n",
       "</style>\n",
       "<table border=\"1\" class=\"dataframe\">\n",
       "  <thead>\n",
       "    <tr style=\"text-align: right;\">\n",
       "      <th></th>\n",
       "      <th>ticker</th>\n",
       "      <th>title</th>\n",
       "      <th>release_date</th>\n",
       "    </tr>\n",
       "  </thead>\n",
       "  <tbody>\n",
       "    <tr>\n",
       "      <td>6235</td>\n",
       "      <td>KYOCY</td>\n",
       "      <td>Nikkei down 1 4 pct on economy fears  autos drop</td>\n",
       "      <td>2008-10-02</td>\n",
       "    </tr>\n",
       "    <tr>\n",
       "      <td>105598</td>\n",
       "      <td>TGT</td>\n",
       "      <td>FOREX Dollar poised for biggest weekly gain in 16 years</td>\n",
       "      <td>2008-10-03</td>\n",
       "    </tr>\n",
       "    <tr>\n",
       "      <td>214228</td>\n",
       "      <td>C</td>\n",
       "      <td>GLOBAL MARKETS Stocks rally on Wells Wachovia deal  dollar gains</td>\n",
       "      <td>2008-10-03</td>\n",
       "    </tr>\n",
       "    <tr>\n",
       "      <td>220286</td>\n",
       "      <td>WFC</td>\n",
       "      <td>GLOBAL MARKETS Stocks hold up after Wells Wachovia deal</td>\n",
       "      <td>2008-10-03</td>\n",
       "    </tr>\n",
       "    <tr>\n",
       "      <td>220287</td>\n",
       "      <td>WFC</td>\n",
       "      <td>GLOBAL MARKETS U S  bailout plan passes  investors take profits</td>\n",
       "      <td>2008-10-03</td>\n",
       "    </tr>\n",
       "  </tbody>\n",
       "</table>\n",
       "</div>"
      ],
      "text/plain": [
       "       ticker  \\\n",
       "6235    KYOCY   \n",
       "105598  TGT     \n",
       "214228  C       \n",
       "220286  WFC     \n",
       "220287  WFC     \n",
       "\n",
       "                                                                   title  \\\n",
       "6235    Nikkei down 1 4 pct on economy fears  autos drop                   \n",
       "105598  FOREX Dollar poised for biggest weekly gain in 16 years            \n",
       "214228  GLOBAL MARKETS Stocks rally on Wells Wachovia deal  dollar gains   \n",
       "220286  GLOBAL MARKETS Stocks hold up after Wells Wachovia deal            \n",
       "220287  GLOBAL MARKETS U S  bailout plan passes  investors take profits    \n",
       "\n",
       "       release_date  \n",
       "6235    2008-10-02   \n",
       "105598  2008-10-03   \n",
       "214228  2008-10-03   \n",
       "220286  2008-10-03   \n",
       "220287  2008-10-03   "
      ]
     },
     "execution_count": 3,
     "metadata": {},
     "output_type": "execute_result"
    }
   ],
   "source": [
    "important_news= news[['ticker','title','release_date']]\n",
    "important_news = important_news.sort_values(by='release_date', ascending=True)\n",
    "important_news.head()"
   ]
  },
  {
   "cell_type": "code",
   "execution_count": 5,
   "metadata": {},
   "outputs": [
    {
     "data": {
      "text/html": [
       "<div>\n",
       "<style scoped>\n",
       "    .dataframe tbody tr th:only-of-type {\n",
       "        vertical-align: middle;\n",
       "    }\n",
       "\n",
       "    .dataframe tbody tr th {\n",
       "        vertical-align: top;\n",
       "    }\n",
       "\n",
       "    .dataframe thead th {\n",
       "        text-align: right;\n",
       "    }\n",
       "</style>\n",
       "<table border=\"1\" class=\"dataframe\">\n",
       "  <thead>\n",
       "    <tr style=\"text-align: right;\">\n",
       "      <th></th>\n",
       "      <th>ticker</th>\n",
       "      <th>title</th>\n",
       "      <th>release_date</th>\n",
       "      <th>sentiment</th>\n",
       "    </tr>\n",
       "  </thead>\n",
       "  <tbody>\n",
       "    <tr>\n",
       "      <td>6235</td>\n",
       "      <td>KYOCY</td>\n",
       "      <td>Nikkei down 1 4 pct on economy fears  autos drop</td>\n",
       "      <td>2008-10-02</td>\n",
       "      <td>NaN</td>\n",
       "    </tr>\n",
       "    <tr>\n",
       "      <td>105598</td>\n",
       "      <td>TGT</td>\n",
       "      <td>FOREX Dollar poised for biggest weekly gain in 16 years</td>\n",
       "      <td>2008-10-03</td>\n",
       "      <td>NaN</td>\n",
       "    </tr>\n",
       "    <tr>\n",
       "      <td>214228</td>\n",
       "      <td>C</td>\n",
       "      <td>GLOBAL MARKETS Stocks rally on Wells Wachovia deal  dollar gains</td>\n",
       "      <td>2008-10-03</td>\n",
       "      <td>NaN</td>\n",
       "    </tr>\n",
       "    <tr>\n",
       "      <td>220286</td>\n",
       "      <td>WFC</td>\n",
       "      <td>GLOBAL MARKETS Stocks hold up after Wells Wachovia deal</td>\n",
       "      <td>2008-10-03</td>\n",
       "      <td>NaN</td>\n",
       "    </tr>\n",
       "    <tr>\n",
       "      <td>220287</td>\n",
       "      <td>WFC</td>\n",
       "      <td>GLOBAL MARKETS U S  bailout plan passes  investors take profits</td>\n",
       "      <td>2008-10-03</td>\n",
       "      <td>NaN</td>\n",
       "    </tr>\n",
       "  </tbody>\n",
       "</table>\n",
       "</div>"
      ],
      "text/plain": [
       "       ticker  \\\n",
       "6235    KYOCY   \n",
       "105598  TGT     \n",
       "214228  C       \n",
       "220286  WFC     \n",
       "220287  WFC     \n",
       "\n",
       "                                                                   title  \\\n",
       "6235    Nikkei down 1 4 pct on economy fears  autos drop                   \n",
       "105598  FOREX Dollar poised for biggest weekly gain in 16 years            \n",
       "214228  GLOBAL MARKETS Stocks rally on Wells Wachovia deal  dollar gains   \n",
       "220286  GLOBAL MARKETS Stocks hold up after Wells Wachovia deal            \n",
       "220287  GLOBAL MARKETS U S  bailout plan passes  investors take profits    \n",
       "\n",
       "       release_date  sentiment  \n",
       "6235    2008-10-02  NaN         \n",
       "105598  2008-10-03  NaN         \n",
       "214228  2008-10-03  NaN         \n",
       "220286  2008-10-03  NaN         \n",
       "220287  2008-10-03  NaN         "
      ]
     },
     "execution_count": 5,
     "metadata": {},
     "output_type": "execute_result"
    }
   ],
   "source": [
    "important_news['sentiment'] = np.nan\n",
    "important_news['title'] = important_news['title'].replace('  ',' ')\n",
    "important_news['title'] = important_news['title'].replace('   ',' ')\n",
    "important_news.head()"
   ]
  },
  {
   "cell_type": "markdown",
   "metadata": {},
   "source": [
    "# Bert Pre trained"
   ]
  },
  {
   "cell_type": "code",
   "execution_count": 6,
   "metadata": {},
   "outputs": [],
   "source": [
    "import os\n",
    "import copy\n",
    "import time\n",
    "import torch\n",
    "import torch.nn as nn\n",
    "import torch.nn.functional as F\n",
    "from torch.optim import lr_scheduler\n",
    "from torch.utils.data import Dataset, DataLoader\n",
    "from pytorch_pretrained_bert import BertTokenizer, BertModel, BertForMaskedLM, BertConfig\n",
    "from bertModel import BertClassification, dense_opt\n",
    "from datasets import text_dataset, financialPhraseBankDataset\n",
    "import argparse\n",
    "from sklearn.metrics import f1_score"
   ]
  },
  {
   "cell_type": "code",
   "execution_count": 7,
   "metadata": {},
   "outputs": [],
   "source": [
    "labels = {0:'neutral', 1:'positive',2:'negative'}\n",
    "num_labels= len(labels)\n",
    "vocab = \"finance-uncased\"\n",
    "#vocab_path = \"/home/root/new_bert_vocab_uncased_8000\"\n",
    "vocab_path = r'analyst_tone\\vocab'\n",
    "pretrained_weights_path = r\"analyst_tone\\pretrained_weights\" # this is pre-trained FinBERT weights\n",
    "fine_tuned_weight_path = r\"analyst_tone\\fine_tuned.pth\"      # this is fine-tuned FinBERT weights\n",
    "max_seq_length=256\n",
    "device='cuda:0'"
   ]
  },
  {
   "cell_type": "code",
   "execution_count": 8,
   "metadata": {},
   "outputs": [
    {
     "name": "stderr",
     "output_type": "stream",
     "text": [
      "C:\\Users\\nicko\\bertModel.py:38: UserWarning: nn.init.xavier_normal is now deprecated in favor of nn.init.xavier_normal_.\n",
      "  nn.init.xavier_normal(self.classifier.weight)\n"
     ]
    }
   ],
   "source": [
    "model = BertClassification(weight_path= pretrained_weights_path, num_labels=num_labels, vocab=vocab)"
   ]
  },
  {
   "cell_type": "code",
   "execution_count": 9,
   "metadata": {
    "scrolled": true
   },
   "outputs": [
    {
     "data": {
      "text/plain": [
       "BertClassification(\n",
       "  (bert): BertModel(\n",
       "    (embeddings): BertEmbeddings(\n",
       "      (word_embeddings): Embedding(30873, 768, padding_idx=0)\n",
       "      (position_embeddings): Embedding(512, 768)\n",
       "      (token_type_embeddings): Embedding(2, 768)\n",
       "      (LayerNorm): BertLayerNorm()\n",
       "      (dropout): Dropout(p=0.1, inplace=False)\n",
       "    )\n",
       "    (encoder): BertEncoder(\n",
       "      (layer): ModuleList(\n",
       "        (0): BertLayer(\n",
       "          (attention): BertAttention(\n",
       "            (self): BertSelfAttention(\n",
       "              (query): Linear(in_features=768, out_features=768, bias=True)\n",
       "              (key): Linear(in_features=768, out_features=768, bias=True)\n",
       "              (value): Linear(in_features=768, out_features=768, bias=True)\n",
       "              (dropout): Dropout(p=0.1, inplace=False)\n",
       "            )\n",
       "            (output): BertSelfOutput(\n",
       "              (dense): Linear(in_features=768, out_features=768, bias=True)\n",
       "              (LayerNorm): BertLayerNorm()\n",
       "              (dropout): Dropout(p=0.1, inplace=False)\n",
       "            )\n",
       "          )\n",
       "          (intermediate): BertIntermediate(\n",
       "            (dense): Linear(in_features=768, out_features=3072, bias=True)\n",
       "          )\n",
       "          (output): BertOutput(\n",
       "            (dense): Linear(in_features=3072, out_features=768, bias=True)\n",
       "            (LayerNorm): BertLayerNorm()\n",
       "            (dropout): Dropout(p=0.1, inplace=False)\n",
       "          )\n",
       "        )\n",
       "        (1): BertLayer(\n",
       "          (attention): BertAttention(\n",
       "            (self): BertSelfAttention(\n",
       "              (query): Linear(in_features=768, out_features=768, bias=True)\n",
       "              (key): Linear(in_features=768, out_features=768, bias=True)\n",
       "              (value): Linear(in_features=768, out_features=768, bias=True)\n",
       "              (dropout): Dropout(p=0.1, inplace=False)\n",
       "            )\n",
       "            (output): BertSelfOutput(\n",
       "              (dense): Linear(in_features=768, out_features=768, bias=True)\n",
       "              (LayerNorm): BertLayerNorm()\n",
       "              (dropout): Dropout(p=0.1, inplace=False)\n",
       "            )\n",
       "          )\n",
       "          (intermediate): BertIntermediate(\n",
       "            (dense): Linear(in_features=768, out_features=3072, bias=True)\n",
       "          )\n",
       "          (output): BertOutput(\n",
       "            (dense): Linear(in_features=3072, out_features=768, bias=True)\n",
       "            (LayerNorm): BertLayerNorm()\n",
       "            (dropout): Dropout(p=0.1, inplace=False)\n",
       "          )\n",
       "        )\n",
       "        (2): BertLayer(\n",
       "          (attention): BertAttention(\n",
       "            (self): BertSelfAttention(\n",
       "              (query): Linear(in_features=768, out_features=768, bias=True)\n",
       "              (key): Linear(in_features=768, out_features=768, bias=True)\n",
       "              (value): Linear(in_features=768, out_features=768, bias=True)\n",
       "              (dropout): Dropout(p=0.1, inplace=False)\n",
       "            )\n",
       "            (output): BertSelfOutput(\n",
       "              (dense): Linear(in_features=768, out_features=768, bias=True)\n",
       "              (LayerNorm): BertLayerNorm()\n",
       "              (dropout): Dropout(p=0.1, inplace=False)\n",
       "            )\n",
       "          )\n",
       "          (intermediate): BertIntermediate(\n",
       "            (dense): Linear(in_features=768, out_features=3072, bias=True)\n",
       "          )\n",
       "          (output): BertOutput(\n",
       "            (dense): Linear(in_features=3072, out_features=768, bias=True)\n",
       "            (LayerNorm): BertLayerNorm()\n",
       "            (dropout): Dropout(p=0.1, inplace=False)\n",
       "          )\n",
       "        )\n",
       "        (3): BertLayer(\n",
       "          (attention): BertAttention(\n",
       "            (self): BertSelfAttention(\n",
       "              (query): Linear(in_features=768, out_features=768, bias=True)\n",
       "              (key): Linear(in_features=768, out_features=768, bias=True)\n",
       "              (value): Linear(in_features=768, out_features=768, bias=True)\n",
       "              (dropout): Dropout(p=0.1, inplace=False)\n",
       "            )\n",
       "            (output): BertSelfOutput(\n",
       "              (dense): Linear(in_features=768, out_features=768, bias=True)\n",
       "              (LayerNorm): BertLayerNorm()\n",
       "              (dropout): Dropout(p=0.1, inplace=False)\n",
       "            )\n",
       "          )\n",
       "          (intermediate): BertIntermediate(\n",
       "            (dense): Linear(in_features=768, out_features=3072, bias=True)\n",
       "          )\n",
       "          (output): BertOutput(\n",
       "            (dense): Linear(in_features=3072, out_features=768, bias=True)\n",
       "            (LayerNorm): BertLayerNorm()\n",
       "            (dropout): Dropout(p=0.1, inplace=False)\n",
       "          )\n",
       "        )\n",
       "        (4): BertLayer(\n",
       "          (attention): BertAttention(\n",
       "            (self): BertSelfAttention(\n",
       "              (query): Linear(in_features=768, out_features=768, bias=True)\n",
       "              (key): Linear(in_features=768, out_features=768, bias=True)\n",
       "              (value): Linear(in_features=768, out_features=768, bias=True)\n",
       "              (dropout): Dropout(p=0.1, inplace=False)\n",
       "            )\n",
       "            (output): BertSelfOutput(\n",
       "              (dense): Linear(in_features=768, out_features=768, bias=True)\n",
       "              (LayerNorm): BertLayerNorm()\n",
       "              (dropout): Dropout(p=0.1, inplace=False)\n",
       "            )\n",
       "          )\n",
       "          (intermediate): BertIntermediate(\n",
       "            (dense): Linear(in_features=768, out_features=3072, bias=True)\n",
       "          )\n",
       "          (output): BertOutput(\n",
       "            (dense): Linear(in_features=3072, out_features=768, bias=True)\n",
       "            (LayerNorm): BertLayerNorm()\n",
       "            (dropout): Dropout(p=0.1, inplace=False)\n",
       "          )\n",
       "        )\n",
       "        (5): BertLayer(\n",
       "          (attention): BertAttention(\n",
       "            (self): BertSelfAttention(\n",
       "              (query): Linear(in_features=768, out_features=768, bias=True)\n",
       "              (key): Linear(in_features=768, out_features=768, bias=True)\n",
       "              (value): Linear(in_features=768, out_features=768, bias=True)\n",
       "              (dropout): Dropout(p=0.1, inplace=False)\n",
       "            )\n",
       "            (output): BertSelfOutput(\n",
       "              (dense): Linear(in_features=768, out_features=768, bias=True)\n",
       "              (LayerNorm): BertLayerNorm()\n",
       "              (dropout): Dropout(p=0.1, inplace=False)\n",
       "            )\n",
       "          )\n",
       "          (intermediate): BertIntermediate(\n",
       "            (dense): Linear(in_features=768, out_features=3072, bias=True)\n",
       "          )\n",
       "          (output): BertOutput(\n",
       "            (dense): Linear(in_features=3072, out_features=768, bias=True)\n",
       "            (LayerNorm): BertLayerNorm()\n",
       "            (dropout): Dropout(p=0.1, inplace=False)\n",
       "          )\n",
       "        )\n",
       "        (6): BertLayer(\n",
       "          (attention): BertAttention(\n",
       "            (self): BertSelfAttention(\n",
       "              (query): Linear(in_features=768, out_features=768, bias=True)\n",
       "              (key): Linear(in_features=768, out_features=768, bias=True)\n",
       "              (value): Linear(in_features=768, out_features=768, bias=True)\n",
       "              (dropout): Dropout(p=0.1, inplace=False)\n",
       "            )\n",
       "            (output): BertSelfOutput(\n",
       "              (dense): Linear(in_features=768, out_features=768, bias=True)\n",
       "              (LayerNorm): BertLayerNorm()\n",
       "              (dropout): Dropout(p=0.1, inplace=False)\n",
       "            )\n",
       "          )\n",
       "          (intermediate): BertIntermediate(\n",
       "            (dense): Linear(in_features=768, out_features=3072, bias=True)\n",
       "          )\n",
       "          (output): BertOutput(\n",
       "            (dense): Linear(in_features=3072, out_features=768, bias=True)\n",
       "            (LayerNorm): BertLayerNorm()\n",
       "            (dropout): Dropout(p=0.1, inplace=False)\n",
       "          )\n",
       "        )\n",
       "        (7): BertLayer(\n",
       "          (attention): BertAttention(\n",
       "            (self): BertSelfAttention(\n",
       "              (query): Linear(in_features=768, out_features=768, bias=True)\n",
       "              (key): Linear(in_features=768, out_features=768, bias=True)\n",
       "              (value): Linear(in_features=768, out_features=768, bias=True)\n",
       "              (dropout): Dropout(p=0.1, inplace=False)\n",
       "            )\n",
       "            (output): BertSelfOutput(\n",
       "              (dense): Linear(in_features=768, out_features=768, bias=True)\n",
       "              (LayerNorm): BertLayerNorm()\n",
       "              (dropout): Dropout(p=0.1, inplace=False)\n",
       "            )\n",
       "          )\n",
       "          (intermediate): BertIntermediate(\n",
       "            (dense): Linear(in_features=768, out_features=3072, bias=True)\n",
       "          )\n",
       "          (output): BertOutput(\n",
       "            (dense): Linear(in_features=3072, out_features=768, bias=True)\n",
       "            (LayerNorm): BertLayerNorm()\n",
       "            (dropout): Dropout(p=0.1, inplace=False)\n",
       "          )\n",
       "        )\n",
       "        (8): BertLayer(\n",
       "          (attention): BertAttention(\n",
       "            (self): BertSelfAttention(\n",
       "              (query): Linear(in_features=768, out_features=768, bias=True)\n",
       "              (key): Linear(in_features=768, out_features=768, bias=True)\n",
       "              (value): Linear(in_features=768, out_features=768, bias=True)\n",
       "              (dropout): Dropout(p=0.1, inplace=False)\n",
       "            )\n",
       "            (output): BertSelfOutput(\n",
       "              (dense): Linear(in_features=768, out_features=768, bias=True)\n",
       "              (LayerNorm): BertLayerNorm()\n",
       "              (dropout): Dropout(p=0.1, inplace=False)\n",
       "            )\n",
       "          )\n",
       "          (intermediate): BertIntermediate(\n",
       "            (dense): Linear(in_features=768, out_features=3072, bias=True)\n",
       "          )\n",
       "          (output): BertOutput(\n",
       "            (dense): Linear(in_features=3072, out_features=768, bias=True)\n",
       "            (LayerNorm): BertLayerNorm()\n",
       "            (dropout): Dropout(p=0.1, inplace=False)\n",
       "          )\n",
       "        )\n",
       "        (9): BertLayer(\n",
       "          (attention): BertAttention(\n",
       "            (self): BertSelfAttention(\n",
       "              (query): Linear(in_features=768, out_features=768, bias=True)\n",
       "              (key): Linear(in_features=768, out_features=768, bias=True)\n",
       "              (value): Linear(in_features=768, out_features=768, bias=True)\n",
       "              (dropout): Dropout(p=0.1, inplace=False)\n",
       "            )\n",
       "            (output): BertSelfOutput(\n",
       "              (dense): Linear(in_features=768, out_features=768, bias=True)\n",
       "              (LayerNorm): BertLayerNorm()\n",
       "              (dropout): Dropout(p=0.1, inplace=False)\n",
       "            )\n",
       "          )\n",
       "          (intermediate): BertIntermediate(\n",
       "            (dense): Linear(in_features=768, out_features=3072, bias=True)\n",
       "          )\n",
       "          (output): BertOutput(\n",
       "            (dense): Linear(in_features=3072, out_features=768, bias=True)\n",
       "            (LayerNorm): BertLayerNorm()\n",
       "            (dropout): Dropout(p=0.1, inplace=False)\n",
       "          )\n",
       "        )\n",
       "        (10): BertLayer(\n",
       "          (attention): BertAttention(\n",
       "            (self): BertSelfAttention(\n",
       "              (query): Linear(in_features=768, out_features=768, bias=True)\n",
       "              (key): Linear(in_features=768, out_features=768, bias=True)\n",
       "              (value): Linear(in_features=768, out_features=768, bias=True)\n",
       "              (dropout): Dropout(p=0.1, inplace=False)\n",
       "            )\n",
       "            (output): BertSelfOutput(\n",
       "              (dense): Linear(in_features=768, out_features=768, bias=True)\n",
       "              (LayerNorm): BertLayerNorm()\n",
       "              (dropout): Dropout(p=0.1, inplace=False)\n",
       "            )\n",
       "          )\n",
       "          (intermediate): BertIntermediate(\n",
       "            (dense): Linear(in_features=768, out_features=3072, bias=True)\n",
       "          )\n",
       "          (output): BertOutput(\n",
       "            (dense): Linear(in_features=3072, out_features=768, bias=True)\n",
       "            (LayerNorm): BertLayerNorm()\n",
       "            (dropout): Dropout(p=0.1, inplace=False)\n",
       "          )\n",
       "        )\n",
       "        (11): BertLayer(\n",
       "          (attention): BertAttention(\n",
       "            (self): BertSelfAttention(\n",
       "              (query): Linear(in_features=768, out_features=768, bias=True)\n",
       "              (key): Linear(in_features=768, out_features=768, bias=True)\n",
       "              (value): Linear(in_features=768, out_features=768, bias=True)\n",
       "              (dropout): Dropout(p=0.1, inplace=False)\n",
       "            )\n",
       "            (output): BertSelfOutput(\n",
       "              (dense): Linear(in_features=768, out_features=768, bias=True)\n",
       "              (LayerNorm): BertLayerNorm()\n",
       "              (dropout): Dropout(p=0.1, inplace=False)\n",
       "            )\n",
       "          )\n",
       "          (intermediate): BertIntermediate(\n",
       "            (dense): Linear(in_features=768, out_features=3072, bias=True)\n",
       "          )\n",
       "          (output): BertOutput(\n",
       "            (dense): Linear(in_features=3072, out_features=768, bias=True)\n",
       "            (LayerNorm): BertLayerNorm()\n",
       "            (dropout): Dropout(p=0.1, inplace=False)\n",
       "          )\n",
       "        )\n",
       "      )\n",
       "    )\n",
       "    (pooler): BertPooler(\n",
       "      (dense): Linear(in_features=768, out_features=768, bias=True)\n",
       "      (activation): Tanh()\n",
       "    )\n",
       "  )\n",
       "  (dropout): Dropout(p=0.1, inplace=False)\n",
       "  (classifier): Linear(in_features=768, out_features=3, bias=True)\n",
       ")"
      ]
     },
     "execution_count": 9,
     "metadata": {},
     "output_type": "execute_result"
    }
   ],
   "source": [
    "model.load_state_dict(torch.load(fine_tuned_weight_path, map_location='cuda:0'))\n",
    "model.to(device)"
   ]
  },
  {
   "cell_type": "code",
   "execution_count": 10,
   "metadata": {},
   "outputs": [
    {
     "name": "stdout",
     "output_type": "stream",
     "text": [
      "(221513, 4)\n",
      "(28341, 4)\n"
     ]
    }
   ],
   "source": [
    "print(important_news.shape)\n",
    "important_news = important_news.loc[(important_news[\"ticker\"] ==\"AAPL\") | (important_news[\"ticker\"] ==\"MSFT\")]\n",
    "print(important_news.shape)\n",
    "headlines = list(important_news['title'])"
   ]
  },
  {
   "cell_type": "code",
   "execution_count": 11,
   "metadata": {},
   "outputs": [],
   "source": [
    "tokenizer = BertTokenizer(vocab_file = vocab_path, do_lower_case = True, do_basic_tokenize = True)"
   ]
  },
  {
   "cell_type": "code",
   "execution_count": 12,
   "metadata": {},
   "outputs": [
    {
     "name": "stderr",
     "output_type": "stream",
     "text": [
      "C:\\Users\\nicko\\Anaconda3\\lib\\site-packages\\pandas\\core\\indexing.py:494: SettingWithCopyWarning: \n",
      "A value is trying to be set on a copy of a slice from a DataFrame.\n",
      "Try using .loc[row_indexer,col_indexer] = value instead\n",
      "\n",
      "See the caveats in the documentation: http://pandas.pydata.org/pandas-docs/stable/user_guide/indexing.html#returning-a-view-versus-a-copy\n",
      "  self.obj[item] = s\n",
      "C:\\Users\\nicko\\Anaconda3\\lib\\site-packages\\pandas\\core\\indexing.py:205: SettingWithCopyWarning: \n",
      "A value is trying to be set on a copy of a slice from a DataFrame\n",
      "\n",
      "See the caveats in the documentation: http://pandas.pydata.org/pandas-docs/stable/user_guide/indexing.html#returning-a-view-versus-a-copy\n",
      "  self._setitem_with_indexer(indexer, value)\n",
      "C:\\Users\\nicko\\Anaconda3\\lib\\site-packages\\ipykernel_launcher.py:24: SettingWithCopyWarning: \n",
      "A value is trying to be set on a copy of a slice from a DataFrame\n",
      "\n",
      "See the caveats in the documentation: http://pandas.pydata.org/pandas-docs/stable/user_guide/indexing.html#returning-a-view-versus-a-copy\n"
     ]
    },
    {
     "name": "stdout",
     "output_type": "stream",
     "text": [
      "--- 1617.569286108017 seconds ---\n"
     ]
    }
   ],
   "source": [
    "import time\n",
    "start_time = time.time()\n",
    "\n",
    "for sent in headlines: \n",
    "    tokenized_sent = tokenizer.tokenize(sent)\n",
    "    if len(tokenized_sent) > max_seq_length:\n",
    "        tokenized_sent = tokenized_sent[:max_seq_length]\n",
    "    \n",
    "    ids_review  = tokenizer.convert_tokens_to_ids(tokenized_sent)\n",
    "    mask_input = [1]*len(ids_review)        \n",
    "    padding = [0] * (max_seq_length - len(ids_review))\n",
    "    ids_review += padding\n",
    "    mask_input += padding\n",
    "    input_type = [0]*max_seq_length\n",
    "    \n",
    "    input_ids = torch.tensor(ids_review).to(device).reshape(-1, 256)\n",
    "    attention_mask =  torch.tensor(mask_input).to(device).reshape(-1, 256)\n",
    "    token_type_ids = torch.tensor(input_type).to(device).reshape(-1, 256)\n",
    "    \n",
    "    with torch.set_grad_enabled(False):\n",
    "        outputs = model(input_ids, token_type_ids, attention_mask)\n",
    "        outputs = F.softmax(outputs,dim=1)\n",
    "        #print(sent, '\\nBERT predicted sentiment: ', labels[torch.argmax(outputs).item()], '\\n')\n",
    "        important_news.loc[important_news['title'] == sent, 'sentiment'] = labels[torch.argmax(outputs).item()]\n",
    "print(\"--- %s seconds ---\" % (time.time() - start_time))# ~ 27 mins"
   ]
  },
  {
   "cell_type": "code",
   "execution_count": 13,
   "metadata": {
    "scrolled": true
   },
   "outputs": [
    {
     "data": {
      "text/html": [
       "<div>\n",
       "<style scoped>\n",
       "    .dataframe tbody tr th:only-of-type {\n",
       "        vertical-align: middle;\n",
       "    }\n",
       "\n",
       "    .dataframe tbody tr th {\n",
       "        vertical-align: top;\n",
       "    }\n",
       "\n",
       "    .dataframe thead th {\n",
       "        text-align: right;\n",
       "    }\n",
       "</style>\n",
       "<table border=\"1\" class=\"dataframe\">\n",
       "  <thead>\n",
       "    <tr style=\"text-align: right;\">\n",
       "      <th></th>\n",
       "      <th>ticker</th>\n",
       "      <th>title</th>\n",
       "      <th>release_date</th>\n",
       "      <th>sentiment</th>\n",
       "    </tr>\n",
       "  </thead>\n",
       "  <tbody>\n",
       "    <tr>\n",
       "      <td>77424</td>\n",
       "      <td>MSFT</td>\n",
       "      <td>GLOBAL MARKETS U S  stocks retreat on recession fears  oil falls</td>\n",
       "      <td>2008-10-15</td>\n",
       "      <td>neutral</td>\n",
       "    </tr>\n",
       "    <tr>\n",
       "      <td>77425</td>\n",
       "      <td>MSFT</td>\n",
       "      <td>GLOBAL MARKETS U S  stocks  oil slide on global recession fears</td>\n",
       "      <td>2008-10-15</td>\n",
       "      <td>neutral</td>\n",
       "    </tr>\n",
       "    <tr>\n",
       "      <td>77426</td>\n",
       "      <td>MSFT</td>\n",
       "      <td>INTERVIEW UPDATE 2 Nintendo Wii  DS sales strong</td>\n",
       "      <td>2008-12-08</td>\n",
       "      <td>neutral</td>\n",
       "    </tr>\n",
       "    <tr>\n",
       "      <td>77427</td>\n",
       "      <td>MSFT</td>\n",
       "      <td>Nintendo  Dentsu to distribute video on Wii  Nikkei</td>\n",
       "      <td>2008-12-24</td>\n",
       "      <td>neutral</td>\n",
       "    </tr>\n",
       "    <tr>\n",
       "      <td>77428</td>\n",
       "      <td>MSFT</td>\n",
       "      <td>UPDATE 1 Nintendo  Dentsu to offer video on Wii</td>\n",
       "      <td>2008-12-24</td>\n",
       "      <td>neutral</td>\n",
       "    </tr>\n",
       "    <tr>\n",
       "      <td>77429</td>\n",
       "      <td>MSFT</td>\n",
       "      <td>COLUMN What Apple loses without Steve  Eric Auchard</td>\n",
       "      <td>2009-01-15</td>\n",
       "      <td>negative</td>\n",
       "    </tr>\n",
       "    <tr>\n",
       "      <td>77430</td>\n",
       "      <td>MSFT</td>\n",
       "      <td>INTERVIEW Namco Bandai aims to double game profit in 3 yrs</td>\n",
       "      <td>2009-01-19</td>\n",
       "      <td>neutral</td>\n",
       "    </tr>\n",
       "    <tr>\n",
       "      <td>77431</td>\n",
       "      <td>MSFT</td>\n",
       "      <td>WRAPUP 3 Qimonda  Samsung hit by chip market crash</td>\n",
       "      <td>2009-01-23</td>\n",
       "      <td>neutral</td>\n",
       "    </tr>\n",
       "    <tr>\n",
       "      <td>77405</td>\n",
       "      <td>MSFT</td>\n",
       "      <td>UPDATE 2 Microsoft to open own stores  take on Apple</td>\n",
       "      <td>2009-02-12</td>\n",
       "      <td>neutral</td>\n",
       "    </tr>\n",
       "    <tr>\n",
       "      <td>77407</td>\n",
       "      <td>MSFT</td>\n",
       "      <td>ANALYSIS Video gaming could be bargain buy of UK equities</td>\n",
       "      <td>2009-03-25</td>\n",
       "      <td>neutral</td>\n",
       "    </tr>\n",
       "  </tbody>\n",
       "</table>\n",
       "</div>"
      ],
      "text/plain": [
       "      ticker  \\\n",
       "77424  MSFT    \n",
       "77425  MSFT    \n",
       "77426  MSFT    \n",
       "77427  MSFT    \n",
       "77428  MSFT    \n",
       "77429  MSFT    \n",
       "77430  MSFT    \n",
       "77431  MSFT    \n",
       "77405  MSFT    \n",
       "77407  MSFT    \n",
       "\n",
       "                                                                  title  \\\n",
       "77424  GLOBAL MARKETS U S  stocks retreat on recession fears  oil falls   \n",
       "77425  GLOBAL MARKETS U S  stocks  oil slide on global recession fears    \n",
       "77426  INTERVIEW UPDATE 2 Nintendo Wii  DS sales strong                   \n",
       "77427  Nintendo  Dentsu to distribute video on Wii  Nikkei                \n",
       "77428  UPDATE 1 Nintendo  Dentsu to offer video on Wii                    \n",
       "77429  COLUMN What Apple loses without Steve  Eric Auchard                \n",
       "77430  INTERVIEW Namco Bandai aims to double game profit in 3 yrs         \n",
       "77431  WRAPUP 3 Qimonda  Samsung hit by chip market crash                 \n",
       "77405  UPDATE 2 Microsoft to open own stores  take on Apple               \n",
       "77407  ANALYSIS Video gaming could be bargain buy of UK equities          \n",
       "\n",
       "      release_date sentiment  \n",
       "77424  2008-10-15   neutral   \n",
       "77425  2008-10-15   neutral   \n",
       "77426  2008-12-08   neutral   \n",
       "77427  2008-12-24   neutral   \n",
       "77428  2008-12-24   neutral   \n",
       "77429  2009-01-15   negative  \n",
       "77430  2009-01-19   neutral   \n",
       "77431  2009-01-23   neutral   \n",
       "77405  2009-02-12   neutral   \n",
       "77407  2009-03-25   neutral   "
      ]
     },
     "execution_count": 13,
     "metadata": {},
     "output_type": "execute_result"
    }
   ],
   "source": [
    "important_news.head(10)"
   ]
  },
  {
   "cell_type": "code",
   "execution_count": 14,
   "metadata": {},
   "outputs": [
    {
     "name": "stderr",
     "output_type": "stream",
     "text": [
      "C:\\Users\\nicko\\Anaconda3\\lib\\site-packages\\ipykernel_launcher.py:4: SettingWithCopyWarning: \n",
      "A value is trying to be set on a copy of a slice from a DataFrame.\n",
      "Try using .loc[row_indexer,col_indexer] = value instead\n",
      "\n",
      "See the caveats in the documentation: http://pandas.pydata.org/pandas-docs/stable/user_guide/indexing.html#returning-a-view-versus-a-copy\n",
      "  after removing the cwd from sys.path.\n",
      "C:\\Users\\nicko\\Anaconda3\\lib\\site-packages\\ipykernel_launcher.py:5: SettingWithCopyWarning: \n",
      "A value is trying to be set on a copy of a slice from a DataFrame.\n",
      "Try using .loc[row_indexer,col_indexer] = value instead\n",
      "\n",
      "See the caveats in the documentation: http://pandas.pydata.org/pandas-docs/stable/user_guide/indexing.html#returning-a-view-versus-a-copy\n",
      "  \"\"\"\n",
      "C:\\Users\\nicko\\Anaconda3\\lib\\site-packages\\ipykernel_launcher.py:14: SettingWithCopyWarning: \n",
      "A value is trying to be set on a copy of a slice from a DataFrame\n",
      "\n",
      "See the caveats in the documentation: http://pandas.pydata.org/pandas-docs/stable/user_guide/indexing.html#returning-a-view-versus-a-copy\n",
      "  \n",
      "C:\\Users\\nicko\\Anaconda3\\lib\\site-packages\\ipykernel_launcher.py:16: SettingWithCopyWarning: \n",
      "A value is trying to be set on a copy of a slice from a DataFrame\n",
      "\n",
      "See the caveats in the documentation: http://pandas.pydata.org/pandas-docs/stable/user_guide/indexing.html#returning-a-view-versus-a-copy\n",
      "  app.launch_new_instance()\n",
      "C:\\Users\\nicko\\Anaconda3\\lib\\site-packages\\ipykernel_launcher.py:22: SettingWithCopyWarning: \n",
      "A value is trying to be set on a copy of a slice from a DataFrame\n",
      "\n",
      "See the caveats in the documentation: http://pandas.pydata.org/pandas-docs/stable/user_guide/indexing.html#returning-a-view-versus-a-copy\n",
      "C:\\Users\\nicko\\Anaconda3\\lib\\site-packages\\ipykernel_launcher.py:25: SettingWithCopyWarning: \n",
      "A value is trying to be set on a copy of a slice from a DataFrame\n",
      "\n",
      "See the caveats in the documentation: http://pandas.pydata.org/pandas-docs/stable/user_guide/indexing.html#returning-a-view-versus-a-copy\n"
     ]
    }
   ],
   "source": [
    "apple = important_news.loc[(important_news[\"ticker\"] ==\"AAPL\")]\n",
    "microsoft = important_news.loc[(important_news[\"ticker\"] ==\"MSFT\")]\n",
    "\n",
    "apple['weekday']= pd.to_datetime(apple['release_date']).dt.day_name(locale='en_US.utf8')\n",
    "microsoft['weekday']= pd.to_datetime(microsoft['release_date']).dt.day_name(locale='en_US.utf8')\n",
    "\n",
    "\n",
    "import datetime\n",
    "\n",
    "DD = datetime.timedelta(days=1)\n",
    "#filter for saturdays date -1 to get the date to friday\n",
    "#Saturdays\n",
    "saturday = apple['weekday'] == \"Saturday\"\n",
    "apple.loc[saturday,\"release_date\"] = pd.to_datetime(apple.loc[saturday,\"release_date\"]).dt.date - DD\n",
    "saturday = microsoft['weekday'] == \"Saturday\"\n",
    "microsoft.loc[saturday,\"release_date\"] = pd.to_datetime(microsoft.loc[saturday,\"release_date\"]).dt.date - DD\n",
    "\n",
    "#Sundays\n",
    "DD = datetime.timedelta(days=2)\n",
    "\n",
    "sunday = apple['weekday'] == \"Sunday\"\n",
    "apple.loc[sunday,\"release_date\"] = pd.to_datetime(apple.loc[sunday,\"release_date\"]).dt.date - DD\n",
    "\n",
    "sunday = microsoft['weekday'] == \"Sunday\"\n",
    "microsoft.loc[sunday,\"release_date\"] = pd.to_datetime(microsoft.loc[sunday,\"release_date\"]).dt.date - DD"
   ]
  },
  {
   "cell_type": "code",
   "execution_count": 15,
   "metadata": {},
   "outputs": [
    {
     "data": {
      "text/plain": [
       "(20231, 5)"
      ]
     },
     "execution_count": 15,
     "metadata": {},
     "output_type": "execute_result"
    }
   ],
   "source": [
    "apple.shape"
   ]
  },
  {
   "cell_type": "code",
   "execution_count": 16,
   "metadata": {},
   "outputs": [
    {
     "data": {
      "text/plain": [
       "(8110, 5)"
      ]
     },
     "execution_count": 16,
     "metadata": {},
     "output_type": "execute_result"
    }
   ],
   "source": [
    "microsoft.shape"
   ]
  },
  {
   "cell_type": "markdown",
   "metadata": {},
   "source": [
    "## Loading stock csvs"
   ]
  },
  {
   "cell_type": "code",
   "execution_count": 18,
   "metadata": {},
   "outputs": [
    {
     "data": {
      "text/html": [
       "<div>\n",
       "<style scoped>\n",
       "    .dataframe tbody tr th:only-of-type {\n",
       "        vertical-align: middle;\n",
       "    }\n",
       "\n",
       "    .dataframe tbody tr th {\n",
       "        vertical-align: top;\n",
       "    }\n",
       "\n",
       "    .dataframe thead th {\n",
       "        text-align: right;\n",
       "    }\n",
       "</style>\n",
       "<table border=\"1\" class=\"dataframe\">\n",
       "  <thead>\n",
       "    <tr style=\"text-align: right;\">\n",
       "      <th></th>\n",
       "      <th>date_y</th>\n",
       "      <th>Open</th>\n",
       "    </tr>\n",
       "  </thead>\n",
       "  <tbody>\n",
       "    <tr>\n",
       "      <td>0</td>\n",
       "      <td>2009-09-21</td>\n",
       "      <td>25.110001</td>\n",
       "    </tr>\n",
       "    <tr>\n",
       "      <td>1</td>\n",
       "      <td>2009-09-22</td>\n",
       "      <td>25.400000</td>\n",
       "    </tr>\n",
       "    <tr>\n",
       "      <td>2</td>\n",
       "      <td>2009-09-23</td>\n",
       "      <td>25.920000</td>\n",
       "    </tr>\n",
       "    <tr>\n",
       "      <td>3</td>\n",
       "      <td>2009-09-24</td>\n",
       "      <td>25.920000</td>\n",
       "    </tr>\n",
       "    <tr>\n",
       "      <td>4</td>\n",
       "      <td>2009-09-25</td>\n",
       "      <td>25.690001</td>\n",
       "    </tr>\n",
       "  </tbody>\n",
       "</table>\n",
       "</div>"
      ],
      "text/plain": [
       "       date_y       Open\n",
       "0  2009-09-21  25.110001\n",
       "1  2009-09-22  25.400000\n",
       "2  2009-09-23  25.920000\n",
       "3  2009-09-24  25.920000\n",
       "4  2009-09-25  25.690001"
      ]
     },
     "execution_count": 18,
     "metadata": {},
     "output_type": "execute_result"
    }
   ],
   "source": [
    "apple_csv = pd.read_csv(r'C:\\Users\\nicko\\Desktop\\ticker_cube\\AAPL.csv')\n",
    "msft_csv = pd.read_csv(r'C:\\Users\\nicko\\Desktop\\ticker_cube\\MSFT.csv')\n",
    "\n",
    "apple_stocks = apple_csv[['Date','Open']]\n",
    "apple_stocks = apple_stocks.rename(columns={\"Date\": \"date_y\", \"Open\": \"Open\"})\n",
    "microsoft_stocks = msft_csv[['Date','Open']]\n",
    "microsoft_stocks = microsoft_stocks.rename(columns={\"Date\": \"date_y\", \"Open\": \"Open\"})\n",
    "microsoft_stocks.head()"
   ]
  },
  {
   "cell_type": "code",
   "execution_count": 19,
   "metadata": {},
   "outputs": [
    {
     "name": "stdout",
     "output_type": "stream",
     "text": [
      "AAPL\n",
      "2769\n",
      "2144\n",
      "1740\n",
      "1740\n",
      "\n",
      "\n",
      "MSFT\n",
      "2769\n",
      "1719\n",
      "1435\n",
      "1435\n"
     ]
    }
   ],
   "source": [
    "print('AAPL')\n",
    "print(len(set(apple_stocks.date_y)))\n",
    "print(len(set(apple.release_date)))\n",
    "apple = apple[apple.release_date.isin(apple_stocks.date_y)]\n",
    "apple_stocks = apple_stocks[apple_stocks.date_y.isin(apple.release_date)]\n",
    "print(len(set(apple_stocks.date_y)))\n",
    "print(len(set(apple.release_date)))\n",
    "print('\\n')\n",
    "print('MSFT')\n",
    "print(len(set(microsoft_stocks.date_y)))\n",
    "print(len(set(microsoft.release_date)))\n",
    "microsoft = microsoft[microsoft.release_date.isin(microsoft_stocks.date_y)]\n",
    "microsoft_stocks = microsoft_stocks[microsoft_stocks.date_y.isin(microsoft.release_date)]\n",
    "print(len(set(microsoft_stocks.date_y)))\n",
    "print(len(set(microsoft.release_date)))"
   ]
  },
  {
   "cell_type": "code",
   "execution_count": 19,
   "metadata": {},
   "outputs": [
    {
     "name": "stdout",
     "output_type": "stream",
     "text": [
      "(3013, 3)\n",
      "(3013, 3)\n"
     ]
    }
   ],
   "source": [
    "apple_stocks = merged_stocks.loc[merged_stocks['ticker'] == 'AAPL']\n",
    "print(apple_stocks.shape)\n",
    "microsoft_stocks = merged_stocks.loc[merged_stocks['ticker'] == 'MSFT']\n",
    "print(microsoft_stocks.shape)"
   ]
  },
  {
   "cell_type": "code",
   "execution_count": 21,
   "metadata": {},
   "outputs": [
    {
     "data": {
      "text/html": [
       "<div>\n",
       "<style scoped>\n",
       "    .dataframe tbody tr th:only-of-type {\n",
       "        vertical-align: middle;\n",
       "    }\n",
       "\n",
       "    .dataframe tbody tr th {\n",
       "        vertical-align: top;\n",
       "    }\n",
       "\n",
       "    .dataframe thead th {\n",
       "        text-align: right;\n",
       "    }\n",
       "</style>\n",
       "<table border=\"1\" class=\"dataframe\">\n",
       "  <thead>\n",
       "    <tr style=\"text-align: right;\">\n",
       "      <th></th>\n",
       "      <th>release_date</th>\n",
       "      <th>headlines</th>\n",
       "    </tr>\n",
       "  </thead>\n",
       "  <tbody>\n",
       "    <tr>\n",
       "      <td>0</td>\n",
       "      <td>2008-10-15</td>\n",
       "      <td>[GLOBAL MARKETS U S  stocks retreat on recession fears  oil falls, GLOBAL MARKETS U S  stocks  oil slide on global recession fears]</td>\n",
       "    </tr>\n",
       "    <tr>\n",
       "      <td>1</td>\n",
       "      <td>2008-12-08</td>\n",
       "      <td>[INTERVIEW UPDATE 2 Nintendo Wii  DS sales strong]</td>\n",
       "    </tr>\n",
       "    <tr>\n",
       "      <td>2</td>\n",
       "      <td>2008-12-24</td>\n",
       "      <td>[Nintendo  Dentsu to distribute video on Wii  Nikkei, UPDATE 1 Nintendo  Dentsu to offer video on Wii]</td>\n",
       "    </tr>\n",
       "    <tr>\n",
       "      <td>3</td>\n",
       "      <td>2009-01-15</td>\n",
       "      <td>[COLUMN What Apple loses without Steve  Eric Auchard]</td>\n",
       "    </tr>\n",
       "    <tr>\n",
       "      <td>4</td>\n",
       "      <td>2009-01-23</td>\n",
       "      <td>[WRAPUP 3 Qimonda  Samsung hit by chip market crash]</td>\n",
       "    </tr>\n",
       "  </tbody>\n",
       "</table>\n",
       "</div>"
      ],
      "text/plain": [
       "  release_date  \\\n",
       "0  2008-10-15    \n",
       "1  2008-12-08    \n",
       "2  2008-12-24    \n",
       "3  2009-01-15    \n",
       "4  2009-01-23    \n",
       "\n",
       "                                                                                                                             headlines  \n",
       "0  [GLOBAL MARKETS U S  stocks retreat on recession fears  oil falls, GLOBAL MARKETS U S  stocks  oil slide on global recession fears]  \n",
       "1  [INTERVIEW UPDATE 2 Nintendo Wii  DS sales strong]                                                                                   \n",
       "2  [Nintendo  Dentsu to distribute video on Wii  Nikkei, UPDATE 1 Nintendo  Dentsu to offer video on Wii]                               \n",
       "3  [COLUMN What Apple loses without Steve  Eric Auchard]                                                                                \n",
       "4  [WRAPUP 3 Qimonda  Samsung hit by chip market crash]                                                                                 "
      ]
     },
     "execution_count": 21,
     "metadata": {},
     "output_type": "execute_result"
    }
   ],
   "source": [
    "news = microsoft.groupby(['release_date'])['title'].apply(list).reset_index(name='headlines')\n",
    "news.head()"
   ]
  },
  {
   "cell_type": "code",
   "execution_count": 20,
   "metadata": {},
   "outputs": [
    {
     "name": "stdout",
     "output_type": "stream",
     "text": [
      "        date_y       Open   weekday\n",
      "3   2009-09-24  25.920000  Thursday\n",
      "8   2009-10-01  25.410000  Thursday\n",
      "23  2009-10-22  26.559999  Thursday\n",
      "24  2009-10-23  29.200001  Friday  \n",
      "25  2009-10-26  28.129999  Monday  \n"
     ]
    },
    {
     "data": {
      "text/html": [
       "<div>\n",
       "<style scoped>\n",
       "    .dataframe tbody tr th:only-of-type {\n",
       "        vertical-align: middle;\n",
       "    }\n",
       "\n",
       "    .dataframe tbody tr th {\n",
       "        vertical-align: top;\n",
       "    }\n",
       "\n",
       "    .dataframe thead th {\n",
       "        text-align: right;\n",
       "    }\n",
       "</style>\n",
       "<table border=\"1\" class=\"dataframe\">\n",
       "  <thead>\n",
       "    <tr style=\"text-align: right;\">\n",
       "      <th></th>\n",
       "      <th>date_y</th>\n",
       "      <th>Open</th>\n",
       "      <th>weekday</th>\n",
       "    </tr>\n",
       "  </thead>\n",
       "  <tbody>\n",
       "    <tr>\n",
       "      <td>710</td>\n",
       "      <td>2012-07-16</td>\n",
       "      <td>21.611429</td>\n",
       "      <td>Monday</td>\n",
       "    </tr>\n",
       "    <tr>\n",
       "      <td>713</td>\n",
       "      <td>2012-07-19</td>\n",
       "      <td>21.831429</td>\n",
       "      <td>Thursday</td>\n",
       "    </tr>\n",
       "    <tr>\n",
       "      <td>715</td>\n",
       "      <td>2012-07-23</td>\n",
       "      <td>21.228571</td>\n",
       "      <td>Monday</td>\n",
       "    </tr>\n",
       "    <tr>\n",
       "      <td>716</td>\n",
       "      <td>2012-07-24</td>\n",
       "      <td>21.692142</td>\n",
       "      <td>Tuesday</td>\n",
       "    </tr>\n",
       "    <tr>\n",
       "      <td>719</td>\n",
       "      <td>2012-07-27</td>\n",
       "      <td>20.536072</td>\n",
       "      <td>Friday</td>\n",
       "    </tr>\n",
       "  </tbody>\n",
       "</table>\n",
       "</div>"
      ],
      "text/plain": [
       "         date_y       Open   weekday\n",
       "710  2012-07-16  21.611429  Monday  \n",
       "713  2012-07-19  21.831429  Thursday\n",
       "715  2012-07-23  21.228571  Monday  \n",
       "716  2012-07-24  21.692142  Tuesday \n",
       "719  2012-07-27  20.536072  Friday  "
      ]
     },
     "execution_count": 20,
     "metadata": {},
     "output_type": "execute_result"
    }
   ],
   "source": [
    "microsoft_stocks['weekday']= pd.to_datetime(microsoft_stocks['date_y']).dt.day_name(locale='en_US.utf8')\n",
    "print(microsoft_stocks.head())\n",
    "\n",
    "apple_stocks['weekday']= pd.to_datetime(apple_stocks['date_y']).dt.day_name(locale='en_US.utf8')\n",
    "apple_stocks.head()"
   ]
  },
  {
   "cell_type": "code",
   "execution_count": 21,
   "metadata": {},
   "outputs": [
    {
     "name": "stdout",
     "output_type": "stream",
     "text": [
      "         date_y       Open\n",
      "710  2012-07-16  21.611429\n",
      "713  2012-07-19  21.831429\n",
      "715  2012-07-23  21.228571\n",
      "716  2012-07-24  21.692142\n",
      "719  2012-07-27  20.536072\n",
      "        date_y       Open\n",
      "3   2009-09-24  25.920000\n",
      "8   2009-10-01  25.410000\n",
      "23  2009-10-22  26.559999\n",
      "24  2009-10-23  29.200001\n",
      "25  2009-10-26  28.129999\n"
     ]
    }
   ],
   "source": [
    "apple_prices = apple_stocks[['date_y','Open']]\n",
    "print(apple_prices.head())\n",
    "\n",
    "msft_prices = microsoft_stocks[['date_y','Open']]\n",
    "print(msft_prices.head())"
   ]
  },
  {
   "cell_type": "code",
   "execution_count": 22,
   "metadata": {},
   "outputs": [
    {
     "name": "stdout",
     "output_type": "stream",
     "text": [
      "AAPL\n",
      "(17648, 7)\n",
      "\n",
      "\n",
      "MSFT\n",
      "(7202, 7)\n"
     ]
    },
    {
     "data": {
      "text/html": [
       "<div>\n",
       "<style scoped>\n",
       "    .dataframe tbody tr th:only-of-type {\n",
       "        vertical-align: middle;\n",
       "    }\n",
       "\n",
       "    .dataframe tbody tr th {\n",
       "        vertical-align: top;\n",
       "    }\n",
       "\n",
       "    .dataframe thead th {\n",
       "        text-align: right;\n",
       "    }\n",
       "</style>\n",
       "<table border=\"1\" class=\"dataframe\">\n",
       "  <thead>\n",
       "    <tr style=\"text-align: right;\">\n",
       "      <th></th>\n",
       "      <th>ticker</th>\n",
       "      <th>title</th>\n",
       "      <th>release_date</th>\n",
       "      <th>sentiment</th>\n",
       "      <th>weekday</th>\n",
       "      <th>date_y</th>\n",
       "      <th>Open</th>\n",
       "    </tr>\n",
       "  </thead>\n",
       "  <tbody>\n",
       "    <tr>\n",
       "      <td>0</td>\n",
       "      <td>MSFT</td>\n",
       "      <td>US STOCKS Futures flat as G20  data on housing and jobs eyed</td>\n",
       "      <td>2009-09-24</td>\n",
       "      <td>neutral</td>\n",
       "      <td>Thursday</td>\n",
       "      <td>2009-09-24</td>\n",
       "      <td>25.92</td>\n",
       "    </tr>\n",
       "    <tr>\n",
       "      <td>1</td>\n",
       "      <td>MSFT</td>\n",
       "      <td>US STOCKS Futures flat as housing  jobless claims data ahead</td>\n",
       "      <td>2009-09-24</td>\n",
       "      <td>neutral</td>\n",
       "      <td>Thursday</td>\n",
       "      <td>2009-09-24</td>\n",
       "      <td>25.92</td>\n",
       "    </tr>\n",
       "    <tr>\n",
       "      <td>2</td>\n",
       "      <td>MSFT</td>\n",
       "      <td>US STOCKS Wall St set to rise on claims data  housing eyed</td>\n",
       "      <td>2009-09-24</td>\n",
       "      <td>neutral</td>\n",
       "      <td>Thursday</td>\n",
       "      <td>2009-09-24</td>\n",
       "      <td>25.92</td>\n",
       "    </tr>\n",
       "    <tr>\n",
       "      <td>3</td>\n",
       "      <td>MSFT</td>\n",
       "      <td>Nikkei likely to slip  but falls limited</td>\n",
       "      <td>2009-09-24</td>\n",
       "      <td>neutral</td>\n",
       "      <td>Thursday</td>\n",
       "      <td>2009-09-24</td>\n",
       "      <td>25.92</td>\n",
       "    </tr>\n",
       "    <tr>\n",
       "      <td>4</td>\n",
       "      <td>MSFT</td>\n",
       "      <td>US STOCKS SNAPSHOT Nasdaq falls 2 pct as selloff accelerates</td>\n",
       "      <td>2009-10-01</td>\n",
       "      <td>neutral</td>\n",
       "      <td>Thursday</td>\n",
       "      <td>2009-10-01</td>\n",
       "      <td>25.41</td>\n",
       "    </tr>\n",
       "  </tbody>\n",
       "</table>\n",
       "</div>"
      ],
      "text/plain": [
       "  ticker                                                         title  \\\n",
       "0  MSFT   US STOCKS Futures flat as G20  data on housing and jobs eyed   \n",
       "1  MSFT   US STOCKS Futures flat as housing  jobless claims data ahead   \n",
       "2  MSFT   US STOCKS Wall St set to rise on claims data  housing eyed     \n",
       "3  MSFT   Nikkei likely to slip  but falls limited                       \n",
       "4  MSFT   US STOCKS SNAPSHOT Nasdaq falls 2 pct as selloff accelerates   \n",
       "\n",
       "  release_date sentiment   weekday      date_y   Open  \n",
       "0  2009-09-24   neutral   Thursday  2009-09-24  25.92  \n",
       "1  2009-09-24   neutral   Thursday  2009-09-24  25.92  \n",
       "2  2009-09-24   neutral   Thursday  2009-09-24  25.92  \n",
       "3  2009-09-24   neutral   Thursday  2009-09-24  25.92  \n",
       "4  2009-10-01   neutral   Thursday  2009-10-01  25.41  "
      ]
     },
     "execution_count": 22,
     "metadata": {},
     "output_type": "execute_result"
    }
   ],
   "source": [
    "apple_merged = pd.merge(apple,apple_prices,how='left',left_on='release_date',right_on='date_y')\n",
    "print('AAPL')\n",
    "print(apple_merged.shape)\n",
    "print('\\n')\n",
    "print('MSFT')\n",
    "msft_merged = pd.merge(microsoft,msft_prices,how='left',left_on='release_date',right_on='date_y')\n",
    "print(msft_merged.shape)\n",
    "msft_merged.head()"
   ]
  },
  {
   "cell_type": "code",
   "execution_count": 24,
   "metadata": {},
   "outputs": [],
   "source": [
    "apple.loc[apple['sentiment'] == 'neutral', 'sentiment'] = 2\n",
    "apple.loc[apple['sentiment'] == 'positive', 'sentiment'] = 3\n",
    "apple.loc[apple['sentiment'] == 'negative', 'sentiment'] = 1\n",
    "microsoft.loc[microsoft['sentiment'] == 'neutral', 'sentiment'] = 2\n",
    "microsoft.loc[microsoft['sentiment'] == 'positive', 'sentiment'] = 3\n",
    "microsoft.loc[microsoft['sentiment'] == 'negative', 'sentiment'] = 1\n",
    "\n",
    "apple['sentiment'] = apple['sentiment'].astype(float)\n",
    "microsoft['sentiment'] = microsoft['sentiment'].astype(float)"
   ]
  },
  {
   "cell_type": "code",
   "execution_count": 25,
   "metadata": {},
   "outputs": [
    {
     "name": "stdout",
     "output_type": "stream",
     "text": [
      "      release_date  sentiment\n",
      "77315  2009-09-24   2.0      \n",
      "77316  2009-09-24   2.0      \n",
      "77317  2009-09-24   2.0      \n",
      "77318  2009-09-24   2.0      \n",
      "77319  2009-10-01   2.0      \n",
      "77299  2009-10-22   2.0      \n",
      "77321  2009-10-22   2.0      \n",
      "77301  2009-10-23   2.0      \n",
      "77305  2009-10-23   2.0      \n",
      "77304  2009-10-23   2.0      \n"
     ]
    },
    {
     "data": {
      "text/html": [
       "<div>\n",
       "<style scoped>\n",
       "    .dataframe tbody tr th:only-of-type {\n",
       "        vertical-align: middle;\n",
       "    }\n",
       "\n",
       "    .dataframe tbody tr th {\n",
       "        vertical-align: top;\n",
       "    }\n",
       "\n",
       "    .dataframe thead th {\n",
       "        text-align: right;\n",
       "    }\n",
       "</style>\n",
       "<table border=\"1\" class=\"dataframe\">\n",
       "  <thead>\n",
       "    <tr style=\"text-align: right;\">\n",
       "      <th></th>\n",
       "      <th>sentiment</th>\n",
       "    </tr>\n",
       "    <tr>\n",
       "      <th>release_date</th>\n",
       "      <th></th>\n",
       "    </tr>\n",
       "  </thead>\n",
       "  <tbody>\n",
       "    <tr>\n",
       "      <td>2009-09-24</td>\n",
       "      <td>2.000000</td>\n",
       "    </tr>\n",
       "    <tr>\n",
       "      <td>2009-10-01</td>\n",
       "      <td>2.000000</td>\n",
       "    </tr>\n",
       "    <tr>\n",
       "      <td>2009-10-22</td>\n",
       "      <td>2.000000</td>\n",
       "    </tr>\n",
       "    <tr>\n",
       "      <td>2009-10-23</td>\n",
       "      <td>2.000000</td>\n",
       "    </tr>\n",
       "    <tr>\n",
       "      <td>2009-10-26</td>\n",
       "      <td>2.000000</td>\n",
       "    </tr>\n",
       "    <tr>\n",
       "      <td>...</td>\n",
       "      <td>...</td>\n",
       "    </tr>\n",
       "    <tr>\n",
       "      <td>2020-01-27</td>\n",
       "      <td>2.000000</td>\n",
       "    </tr>\n",
       "    <tr>\n",
       "      <td>2020-01-28</td>\n",
       "      <td>1.700000</td>\n",
       "    </tr>\n",
       "    <tr>\n",
       "      <td>2020-01-29</td>\n",
       "      <td>2.000000</td>\n",
       "    </tr>\n",
       "    <tr>\n",
       "      <td>2020-01-30</td>\n",
       "      <td>2.274194</td>\n",
       "    </tr>\n",
       "    <tr>\n",
       "      <td>2020-01-31</td>\n",
       "      <td>2.500000</td>\n",
       "    </tr>\n",
       "  </tbody>\n",
       "</table>\n",
       "<p>1435 rows × 1 columns</p>\n",
       "</div>"
      ],
      "text/plain": [
       "              sentiment\n",
       "release_date           \n",
       "2009-09-24    2.000000 \n",
       "2009-10-01    2.000000 \n",
       "2009-10-22    2.000000 \n",
       "2009-10-23    2.000000 \n",
       "2009-10-26    2.000000 \n",
       "...                ... \n",
       "2020-01-27    2.000000 \n",
       "2020-01-28    1.700000 \n",
       "2020-01-29    2.000000 \n",
       "2020-01-30    2.274194 \n",
       "2020-01-31    2.500000 \n",
       "\n",
       "[1435 rows x 1 columns]"
      ]
     },
     "execution_count": 25,
     "metadata": {},
     "output_type": "execute_result"
    }
   ],
   "source": [
    "avg_apple_sent_df = apple.copy()\n",
    "avg_apple_sent_df = avg_apple_sent_df[['release_date','sentiment']]\n",
    "apple_grouped_sent = avg_apple_sent_df.groupby(['release_date']).mean()\n",
    "\n",
    "avg_msft_sent_df = microsoft.copy()\n",
    "avg_msft_sent_df = avg_msft_sent_df[['release_date','sentiment']]\n",
    "print(avg_msft_sent_df.head(10))\n",
    "msft_grouped_sent = avg_msft_sent_df.groupby(['release_date']).mean()\n",
    "msft_grouped_sent"
   ]
  },
  {
   "cell_type": "code",
   "execution_count": 26,
   "metadata": {},
   "outputs": [
    {
     "name": "stdout",
     "output_type": "stream",
     "text": [
      "(1740, 3)\n"
     ]
    },
    {
     "data": {
      "text/plain": [
       "(1435, 3)"
      ]
     },
     "execution_count": 26,
     "metadata": {},
     "output_type": "execute_result"
    }
   ],
   "source": [
    "apple_train_df = pd.DataFrame(apple_grouped_sent)\n",
    "apple_train_df['index'] = apple_train_df.index\n",
    "apple_data = apple_merged[['release_date','Open']]\n",
    "apple_train_df['Open'] = np.nan\n",
    "for index,row in apple_data.iterrows():\n",
    "    apple_train_df.loc[apple_train_df['index'] == row['release_date'], 'Open'] = row['Open']\n",
    "print(apple_train_df.shape)\n",
    "\n",
    "msft_train_df = pd.DataFrame(msft_grouped_sent)\n",
    "msft_train_df['index'] = msft_train_df.index\n",
    "msft_data = msft_merged[['release_date','Open']]\n",
    "msft_train_df['Open'] = np.nan\n",
    "for index,row in msft_data.iterrows():\n",
    "    msft_train_df.loc[msft_train_df['index'] == row['release_date'], 'Open'] = row['Open']\n",
    "msft_train_df.shape"
   ]
  },
  {
   "cell_type": "code",
   "execution_count": 27,
   "metadata": {},
   "outputs": [
    {
     "name": "stdout",
     "output_type": "stream",
     "text": [
      "      sentiment       index      Open\n",
      "0     2.000000   2012-07-16 NaN      \n",
      "1     2.000000   2012-07-19  0.220000\n",
      "2     2.000000   2012-07-23 -0.602858\n",
      "3     2.000000   2012-07-24  0.463571\n",
      "4     2.000000   2012-07-27 -1.156070\n",
      "...        ...          ...       ...\n",
      "1735  2.200000   2020-01-22  0.347496\n",
      "1736  2.291667   2020-01-23 -0.164994\n",
      "1737  2.062500   2020-01-24  0.582497\n",
      "1738  2.250000   2020-01-27 -2.547501\n",
      "1739  2.202899   2020-01-28  0.635003\n",
      "\n",
      "[1740 rows x 3 columns]\n"
     ]
    },
    {
     "data": {
      "text/html": [
       "<div>\n",
       "<style scoped>\n",
       "    .dataframe tbody tr th:only-of-type {\n",
       "        vertical-align: middle;\n",
       "    }\n",
       "\n",
       "    .dataframe tbody tr th {\n",
       "        vertical-align: top;\n",
       "    }\n",
       "\n",
       "    .dataframe thead th {\n",
       "        text-align: right;\n",
       "    }\n",
       "</style>\n",
       "<table border=\"1\" class=\"dataframe\">\n",
       "  <thead>\n",
       "    <tr style=\"text-align: right;\">\n",
       "      <th></th>\n",
       "      <th>sentiment</th>\n",
       "      <th>index</th>\n",
       "      <th>Open</th>\n",
       "    </tr>\n",
       "  </thead>\n",
       "  <tbody>\n",
       "    <tr>\n",
       "      <td>0</td>\n",
       "      <td>2.000000</td>\n",
       "      <td>2009-09-24</td>\n",
       "      <td>NaN</td>\n",
       "    </tr>\n",
       "    <tr>\n",
       "      <td>1</td>\n",
       "      <td>2.000000</td>\n",
       "      <td>2009-10-01</td>\n",
       "      <td>-0.510000</td>\n",
       "    </tr>\n",
       "    <tr>\n",
       "      <td>2</td>\n",
       "      <td>2.000000</td>\n",
       "      <td>2009-10-22</td>\n",
       "      <td>1.149999</td>\n",
       "    </tr>\n",
       "    <tr>\n",
       "      <td>3</td>\n",
       "      <td>2.000000</td>\n",
       "      <td>2009-10-23</td>\n",
       "      <td>2.640002</td>\n",
       "    </tr>\n",
       "    <tr>\n",
       "      <td>4</td>\n",
       "      <td>2.000000</td>\n",
       "      <td>2009-10-26</td>\n",
       "      <td>-1.070002</td>\n",
       "    </tr>\n",
       "    <tr>\n",
       "      <td>...</td>\n",
       "      <td>...</td>\n",
       "      <td>...</td>\n",
       "      <td>...</td>\n",
       "    </tr>\n",
       "    <tr>\n",
       "      <td>1430</td>\n",
       "      <td>2.000000</td>\n",
       "      <td>2020-01-27</td>\n",
       "      <td>-6.360001</td>\n",
       "    </tr>\n",
       "    <tr>\n",
       "      <td>1431</td>\n",
       "      <td>1.700000</td>\n",
       "      <td>2020-01-28</td>\n",
       "      <td>2.630005</td>\n",
       "    </tr>\n",
       "    <tr>\n",
       "      <td>1432</td>\n",
       "      <td>2.000000</td>\n",
       "      <td>2020-01-29</td>\n",
       "      <td>4.059997</td>\n",
       "    </tr>\n",
       "    <tr>\n",
       "      <td>1433</td>\n",
       "      <td>2.274194</td>\n",
       "      <td>2020-01-30</td>\n",
       "      <td>6.210007</td>\n",
       "    </tr>\n",
       "    <tr>\n",
       "      <td>1434</td>\n",
       "      <td>2.500000</td>\n",
       "      <td>2020-01-31</td>\n",
       "      <td>-1.839996</td>\n",
       "    </tr>\n",
       "  </tbody>\n",
       "</table>\n",
       "<p>1435 rows × 3 columns</p>\n",
       "</div>"
      ],
      "text/plain": [
       "      sentiment       index      Open\n",
       "0     2.000000   2009-09-24 NaN      \n",
       "1     2.000000   2009-10-01 -0.510000\n",
       "2     2.000000   2009-10-22  1.149999\n",
       "3     2.000000   2009-10-23  2.640002\n",
       "4     2.000000   2009-10-26 -1.070002\n",
       "...        ...          ...       ...\n",
       "1430  2.000000   2020-01-27 -6.360001\n",
       "1431  1.700000   2020-01-28  2.630005\n",
       "1432  2.000000   2020-01-29  4.059997\n",
       "1433  2.274194   2020-01-30  6.210007\n",
       "1434  2.500000   2020-01-31 -1.839996\n",
       "\n",
       "[1435 rows x 3 columns]"
      ]
     },
     "execution_count": 27,
     "metadata": {},
     "output_type": "execute_result"
    }
   ],
   "source": [
    "apple_train_df['Open'] = apple_train_df['Open'].diff(periods=1)\n",
    "apple_train_df = apple_train_df.reset_index(drop=True)\n",
    "print(apple_train_df)\n",
    "\n",
    "msft_train_df['Open'] = msft_train_df['Open'].diff(periods=1)\n",
    "msft_train_df = msft_train_df.reset_index(drop=True)\n",
    "msft_train_df"
   ]
  },
  {
   "cell_type": "code",
   "execution_count": 28,
   "metadata": {},
   "outputs": [
    {
     "name": "stdout",
     "output_type": "stream",
     "text": [
      "AAPL\n",
      "(1739, 3)\n",
      "   sentiment       index      Open\n",
      "1  2.0        2012-07-19  0.220000\n",
      "2  2.0        2012-07-23 -0.602858\n",
      "3  2.0        2012-07-24  0.463571\n",
      "4  2.0        2012-07-27 -1.156070\n",
      "5  2.0        2012-07-30  0.568214\n",
      "\n",
      "\n",
      "MSFT\n",
      "(1434, 3)\n",
      "   sentiment       index      Open\n",
      "1  2.0        2009-10-01 -0.510000\n",
      "2  2.0        2009-10-22  1.149999\n",
      "3  2.0        2009-10-23  2.640002\n",
      "4  2.0        2009-10-26 -1.070002\n",
      "5  2.0        2009-10-28  0.110001\n"
     ]
    }
   ],
   "source": [
    "apple_train_df = apple_train_df.drop(0)\n",
    "print('AAPL')\n",
    "print(apple_train_df.shape)\n",
    "print(apple_train_df.head())\n",
    "print('\\n')\n",
    "print('MSFT')\n",
    "msft_train_df = msft_train_df.drop(0)\n",
    "print(msft_train_df.shape)\n",
    "msft_train_df.head()"
   ]
  },
  {
   "cell_type": "code",
   "execution_count": 29,
   "metadata": {},
   "outputs": [
    {
     "data": {
      "text/html": [
       "<div>\n",
       "<style scoped>\n",
       "    .dataframe tbody tr th:only-of-type {\n",
       "        vertical-align: middle;\n",
       "    }\n",
       "\n",
       "    .dataframe tbody tr th {\n",
       "        vertical-align: top;\n",
       "    }\n",
       "\n",
       "    .dataframe thead th {\n",
       "        text-align: right;\n",
       "    }\n",
       "</style>\n",
       "<table border=\"1\" class=\"dataframe\">\n",
       "  <thead>\n",
       "    <tr style=\"text-align: right;\">\n",
       "      <th></th>\n",
       "      <th>sentiment</th>\n",
       "      <th>Open</th>\n",
       "    </tr>\n",
       "  </thead>\n",
       "  <tbody>\n",
       "    <tr>\n",
       "      <td>1</td>\n",
       "      <td>2.000000</td>\n",
       "      <td>0.0</td>\n",
       "    </tr>\n",
       "    <tr>\n",
       "      <td>2</td>\n",
       "      <td>2.000000</td>\n",
       "      <td>1.0</td>\n",
       "    </tr>\n",
       "    <tr>\n",
       "      <td>3</td>\n",
       "      <td>2.000000</td>\n",
       "      <td>1.0</td>\n",
       "    </tr>\n",
       "    <tr>\n",
       "      <td>4</td>\n",
       "      <td>2.000000</td>\n",
       "      <td>0.0</td>\n",
       "    </tr>\n",
       "    <tr>\n",
       "      <td>5</td>\n",
       "      <td>2.000000</td>\n",
       "      <td>1.0</td>\n",
       "    </tr>\n",
       "    <tr>\n",
       "      <td>...</td>\n",
       "      <td>...</td>\n",
       "      <td>...</td>\n",
       "    </tr>\n",
       "    <tr>\n",
       "      <td>1430</td>\n",
       "      <td>2.000000</td>\n",
       "      <td>0.0</td>\n",
       "    </tr>\n",
       "    <tr>\n",
       "      <td>1431</td>\n",
       "      <td>1.700000</td>\n",
       "      <td>1.0</td>\n",
       "    </tr>\n",
       "    <tr>\n",
       "      <td>1432</td>\n",
       "      <td>2.000000</td>\n",
       "      <td>1.0</td>\n",
       "    </tr>\n",
       "    <tr>\n",
       "      <td>1433</td>\n",
       "      <td>2.274194</td>\n",
       "      <td>1.0</td>\n",
       "    </tr>\n",
       "    <tr>\n",
       "      <td>1434</td>\n",
       "      <td>2.500000</td>\n",
       "      <td>0.0</td>\n",
       "    </tr>\n",
       "  </tbody>\n",
       "</table>\n",
       "<p>1434 rows × 2 columns</p>\n",
       "</div>"
      ],
      "text/plain": [
       "      sentiment  Open\n",
       "1     2.000000   0.0 \n",
       "2     2.000000   1.0 \n",
       "3     2.000000   1.0 \n",
       "4     2.000000   0.0 \n",
       "5     2.000000   1.0 \n",
       "...        ...   ... \n",
       "1430  2.000000   0.0 \n",
       "1431  1.700000   1.0 \n",
       "1432  2.000000   1.0 \n",
       "1433  2.274194   1.0 \n",
       "1434  2.500000   0.0 \n",
       "\n",
       "[1434 rows x 2 columns]"
      ]
     },
     "execution_count": 29,
     "metadata": {},
     "output_type": "execute_result"
    }
   ],
   "source": [
    "apple_train_df.loc[apple_train_df['Open'] < 0.0, 'Open'] = 0\n",
    "apple_train_df.loc[apple_train_df['Open'] > 0.0, 'Open'] = 1\n",
    "apple_train_df = apple_train_df[['sentiment','Open']]\n",
    "\n",
    "\n",
    "msft_train_df.loc[msft_train_df['Open'] < 0.0, 'Open'] = 0\n",
    "msft_train_df.loc[msft_train_df['Open'] > 0.0, 'Open'] = 1\n",
    "msft_train_df = msft_train_df[['sentiment','Open']]\n",
    "msft_train_df.head()"
   ]
  },
  {
   "cell_type": "markdown",
   "metadata": {},
   "source": [
    "## Functions for dynamic modeling"
   ]
  },
  {
   "cell_type": "code",
   "execution_count": 86,
   "metadata": {},
   "outputs": [],
   "source": [
    "from keras.models import Sequential\n",
    "from keras.layers import LSTM\n",
    "from keras.layers import Dense,Dropout\n",
    "from numpy import array\n",
    "from sklearn.model_selection import train_test_split\n",
    "from keras.utils import to_categorical \n",
    "from sklearn.metrics import confusion_matrix, classification_report\n",
    "import seaborn as sns\n",
    "import matplotlib.pyplot as plt\n",
    "from sklearn.metrics import precision_recall_curve\n",
    "from sklearn.metrics import f1_score\n",
    "from sklearn.metrics import auc"
   ]
  },
  {
   "cell_type": "code",
   "execution_count": 31,
   "metadata": {},
   "outputs": [],
   "source": [
    "# split a univariate sequence into samples\n",
    "def split_sequence(df, n_steps):\n",
    "    X, y = list(), list()\n",
    "    for i in range(df.shape[0]):\n",
    "        # find the end of this pattern\n",
    "        end_ix = i + n_steps\n",
    "        # check if we are beyond the sequence\n",
    "        if end_ix > len(df)-1:\n",
    "            break\n",
    "        # gather input and output parts of the pattern\n",
    "        seq_x = df.iloc[i:end_ix,0]\n",
    "        seq_y = df['Open'][end_ix]\n",
    "        X.append(seq_x)\n",
    "        y.append(seq_y)\n",
    "    return array(X),array(y)"
   ]
  },
  {
   "cell_type": "code",
   "execution_count": 39,
   "metadata": {},
   "outputs": [],
   "source": [
    "def preprocess_data(df,\n",
    "                    n_steps,\n",
    "                    pct = 0.8):\n",
    "    \"\"\"\n",
    "    param df: input dataframe\n",
    "    pct: split percent to training set\n",
    "    param n_steps : timestep number\n",
    "    \"\"\"\n",
    "    print('mpike stin preprocess')\n",
    "    # define input sequence\n",
    "    df = df[['sentiment','Open']]\n",
    "    df['sentiment'] = df['sentiment'].round(2)\n",
    "    df['Open'] = df['Open'].astype(int)\n",
    "    # split into samples\n",
    "    split = int(round(pct * df.shape[0]))\n",
    "    train_set = df.iloc[:split,:]\n",
    "    test_set = df.iloc[split:,:]\n",
    "    test_set = test_set.reset_index(drop=True)\n",
    "    n_features = 1\n",
    "    X_train,y_train = split_sequence(train_set, n_steps)\n",
    "    X_test,y_test = split_sequence(test_set, n_steps)\n",
    "    # reshape from [samples, timesteps] into [samples, timesteps, features]    \n",
    "    X_train = X_train.reshape((X_train.shape[0], X_train.shape[1], n_features))    \n",
    "    X_test = X_test.reshape((X_test.shape[0], X_test.shape[1], n_features))\n",
    "\n",
    "    y_train = to_categorical(y_train, num_classes=2)\n",
    "    \n",
    " \n",
    "    \n",
    "    return X_train,y_train,X_test,y_test"
   ]
  },
  {
   "cell_type": "code",
   "execution_count": 32,
   "metadata": {},
   "outputs": [],
   "source": [
    "def build_model(n_steps,\n",
    "                target_shape,\n",
    "                stacked = False):\n",
    "    \"\"\"\n",
    "    param n_steps : timestep number\n",
    "    param target_shape: target variable shape\n",
    "    param stacked: extra hidden layer added\n",
    "    \"\"\"\n",
    "    print('mpike stin build_model')\n",
    "    model = Sequential()\n",
    "    \n",
    "    if stacked:\n",
    "        model.add(LSTM(150,return_sequences=True, input_shape=(n_steps, 1),name='lstm_layer_1'))\n",
    "        model.add(Dropout(0.1, name='dropout_layer_1'))\n",
    "        model.add(LSTM(150,return_sequences=False,name='lstm_layer_2'))\n",
    "        model.add(Dropout(0.1, name='dropout_layer_2'))\n",
    "        model.add(Dense(target_shape,name='output_layer', activation='sigmoid'))        \n",
    "    else:\n",
    "        model.add(LSTM(50, activation='sigmoid', input_shape=(n_steps, 1)))\n",
    "        model.add(Dense(target_shape))\n",
    "        \n",
    "    model.compile(optimizer='adam', loss='categorical_crossentropy', metrics=['accuracy'])\n",
    "    \n",
    "    return model "
   ]
  },
  {
   "cell_type": "code",
   "execution_count": 95,
   "metadata": {},
   "outputs": [],
   "source": [
    "def run_evaluate_model(df,\n",
    "                       n_steps,\n",
    "                       pct = 0.8,\n",
    "                       stacked = False,\n",
    "                       nb_epochs = 50):\n",
    "    \"\"\"\n",
    "    param df: input dataframe\n",
    "    param n_steps : timestep number\n",
    "    param pct: split percent to training set\n",
    "    param stacked: extra hidden layer added\n",
    "    param nb_epochs: number of epochs\n",
    "    \"\"\"\n",
    "    steps = list()\n",
    "    acc = list()\n",
    "    for step in n_steps:\n",
    "        \n",
    "        print('mpike stin run_evaluate me step '+str(step))\n",
    "        \n",
    "        X_train,y_train,X_test,y_test = preprocess_data(df,int(step),pct)\n",
    "\n",
    "        model = build_model(step,y_train.shape[1],stacked)\n",
    "\n",
    "        model.fit(X_train, y_train, epochs=nb_epochs,verbose=0)\n",
    "\n",
    "        y_test_pred = model.predict_classes(X_test)\n",
    "        \n",
    "        lr_probs = model.predict_proba(X_test)\n",
    "        lr_probs = lr_probs[:, 1]\n",
    "        lr_precision, lr_recall, _ = precision_recall_curve(y_test, lr_probs)\n",
    "        lr_f1, lr_auc = f1_score(y_test, y_test_pred), auc(lr_recall, lr_precision)\n",
    "        print('Model metrics: f1=%.3f auc=%.3f' % (lr_f1, lr_auc))\n",
    "        no_skill = len(y_test[y_test==1]) / len(y_test)\n",
    "        plt.plot([0, 1], [no_skill, no_skill], linestyle='--', label='No Skill')\n",
    "        plt.plot(lr_recall, lr_precision, marker='.', label='LSTM')\n",
    "        # axis labels\n",
    "        plt.xlabel('Recall')\n",
    "        plt.ylabel('Precision')\n",
    "        # show the legend\n",
    "        plt.legend()\n",
    "        # show the plot\n",
    "        plt.show()\n",
    "        conf_mat = confusion_matrix(y_test, y_test_pred)\n",
    "        cm_df = pd.DataFrame(conf_mat)\n",
    "        print(cm_df)\n",
    "        print(classification_report(y_test,y_test_pred))\n",
    "\n",
    "        y_test = to_categorical(y_test, num_classes=2)\n",
    "        score = model.evaluate(X_test,y_test)\n",
    "        print(f'Test loss: {score[0]}:') \n",
    "        print('Test accuracy: {:.3f} %'.format(100 * score[1]))\n",
    "        get_accuracy_heatmap(cm_df)\n",
    "        steps.append(step)\n",
    "        acc.append(score[1])\n",
    "    return steps,acc"
   ]
  },
  {
   "cell_type": "code",
   "execution_count": 73,
   "metadata": {},
   "outputs": [],
   "source": [
    "def get_accuracy_heatmap(df):\n",
    "    fig = plt.figure(figsize=(5,5))\n",
    "    try:\n",
    "        heatmap = sns.heatmap(df, annot=True, fmt=\"d\")\n",
    "\n",
    "    except ValueError:\n",
    "\n",
    "        raise ValueError(\"Confusion matrix values must be integers.\")\n",
    "\n",
    "    heatmap.yaxis.set_ticklabels(heatmap.yaxis.get_ticklabels(),\n",
    "                                 rotation=0,\n",
    "                                 ha='right',\n",
    "                                 fontsize=14)\n",
    "\n",
    "    heatmap.xaxis.set_ticklabels(heatmap.xaxis.get_ticklabels(),\n",
    "                                 rotation=45,\n",
    "                                 ha='right',\n",
    "                                 fontsize=14)\n",
    "    plt.show()"
   ]
  },
  {
   "cell_type": "code",
   "execution_count": 81,
   "metadata": {},
   "outputs": [],
   "source": [
    "def get_accuracy_steps(steps,acc):\n",
    "    fig = plt.figure(figsize=(5,5))\n",
    "    plt.ylabel('Accuracy')\n",
    "    plt.xlabel('Timesteps')\n",
    "    plt.plot(steps, acc,marker=\"o\")\n",
    "    plt.show()"
   ]
  },
  {
   "cell_type": "markdown",
   "metadata": {},
   "source": [
    "## Apple predict"
   ]
  },
  {
   "cell_type": "markdown",
   "metadata": {},
   "source": [
    "### Target variable distribution"
   ]
  },
  {
   "cell_type": "code",
   "execution_count": 102,
   "metadata": {},
   "outputs": [
    {
     "data": {
      "text/html": [
       "<div>\n",
       "<style scoped>\n",
       "    .dataframe tbody tr th:only-of-type {\n",
       "        vertical-align: middle;\n",
       "    }\n",
       "\n",
       "    .dataframe tbody tr th {\n",
       "        vertical-align: top;\n",
       "    }\n",
       "\n",
       "    .dataframe thead th {\n",
       "        text-align: right;\n",
       "    }\n",
       "</style>\n",
       "<table border=\"1\" class=\"dataframe\">\n",
       "  <thead>\n",
       "    <tr style=\"text-align: right;\">\n",
       "      <th></th>\n",
       "      <th>Count</th>\n",
       "    </tr>\n",
       "    <tr>\n",
       "      <th>Open</th>\n",
       "      <th></th>\n",
       "    </tr>\n",
       "  </thead>\n",
       "  <tbody>\n",
       "    <tr>\n",
       "      <td>0</td>\n",
       "      <td>797</td>\n",
       "    </tr>\n",
       "    <tr>\n",
       "      <td>1</td>\n",
       "      <td>942</td>\n",
       "    </tr>\n",
       "  </tbody>\n",
       "</table>\n",
       "</div>"
      ],
      "text/plain": [
       "      Count\n",
       "Open       \n",
       "0     797  \n",
       "1     942  "
      ]
     },
     "execution_count": 102,
     "metadata": {},
     "output_type": "execute_result"
    }
   ],
   "source": [
    "apple_Freq = apple_train_df.groupby('Open').count()\n",
    "apple_group =apple_Freq.rename(columns={'Open':'Open','sentiment':'Count'})\n",
    "apple_group"
   ]
  },
  {
   "cell_type": "code",
   "execution_count": 96,
   "metadata": {
    "scrolled": true
   },
   "outputs": [
    {
     "name": "stdout",
     "output_type": "stream",
     "text": [
      "mpike stin run_evaluate me step 60\n",
      "mpike stin preprocess\n",
      "mpike stin build_model\n",
      "Model metrics: f1=0.680 auc=0.598\n"
     ]
    },
    {
     "data": {
      "image/png": "[encoded data removed]",
      "text/plain": [
       "<Figure size 432x288 with 1 Axes>"
      ]
     },
     "metadata": {
      "needs_background": "light"
     },
     "output_type": "display_data"
    },
    {
     "name": "stdout",
     "output_type": "stream",
     "text": [
      "    0    1\n",
      "0  22  98 \n",
      "1  31  137\n",
      "              precision    recall  f1-score   support\n",
      "\n",
      "           0       0.42      0.18      0.25       120\n",
      "           1       0.58      0.82      0.68       168\n",
      "\n",
      "    accuracy                           0.55       288\n",
      "   macro avg       0.50      0.50      0.47       288\n",
      "weighted avg       0.51      0.55      0.50       288\n",
      "\n",
      "288/288 [==============================] - ETA:  - ETA:  - ETA:  - ETA:  - ETA:  - ETA:  - ETA:  - ETA:  - 2s 7ms/step\n",
      "Test loss: 0.6944605575667487:\n",
      "Test accuracy: 55.208 %\n"
     ]
    },
    {
     "data": {
      "image/png": "[encoded data removed]",
      "text/plain": [
       "<Figure size 360x360 with 2 Axes>"
      ]
     },
     "metadata": {
      "needs_background": "light"
     },
     "output_type": "display_data"
    },
    {
     "name": "stdout",
     "output_type": "stream",
     "text": [
      "mpike stin run_evaluate me step 45\n",
      "mpike stin preprocess\n",
      "mpike stin build_model\n",
      "Model metrics: f1=0.686 auc=0.599\n"
     ]
    },
    {
     "data": {
      "image/png": "[encoded data removed]",
      "text/plain": [
       "<Figure size 432x288 with 1 Axes>"
      ]
     },
     "metadata": {
      "needs_background": "light"
     },
     "output_type": "display_data"
    },
    {
     "name": "stdout",
     "output_type": "stream",
     "text": [
      "    0    1\n",
      "0  25  104\n",
      "1  29  145\n",
      "              precision    recall  f1-score   support\n",
      "\n",
      "           0       0.46      0.19      0.27       129\n",
      "           1       0.58      0.83      0.69       174\n",
      "\n",
      "    accuracy                           0.56       303\n",
      "   macro avg       0.52      0.51      0.48       303\n",
      "weighted avg       0.53      0.56      0.51       303\n",
      "\n",
      "303/303 [==============================] - ETA:  - ETA:  - ETA:  - ETA:  - ETA:  - ETA:  - ETA:  - ETA:  - ETA:  - 2s 6ms/step\n",
      "Test loss: 0.6857539393720847:\n",
      "Test accuracy: 56.106 %\n"
     ]
    },
    {
     "data": {
      "image/png": "[encoded data removed]",
      "text/plain": [
       "<Figure size 360x360 with 2 Axes>"
      ]
     },
     "metadata": {
      "needs_background": "light"
     },
     "output_type": "display_data"
    },
    {
     "name": "stdout",
     "output_type": "stream",
     "text": [
      "mpike stin run_evaluate me step 30\n",
      "mpike stin preprocess\n",
      "mpike stin build_model\n",
      "Model metrics: f1=0.565 auc=0.528\n"
     ]
    },
    {
     "data": {
      "image/png": "[encoded data removed]",
      "text/plain": [
       "<Figure size 432x288 with 1 Axes>"
      ]
     },
     "metadata": {
      "needs_background": "light"
     },
     "output_type": "display_data"
    },
    {
     "name": "stdout",
     "output_type": "stream",
     "text": [
      "    0    1\n",
      "0  51  86 \n",
      "1  76  105\n",
      "              precision    recall  f1-score   support\n",
      "\n",
      "           0       0.40      0.37      0.39       137\n",
      "           1       0.55      0.58      0.56       181\n",
      "\n",
      "    accuracy                           0.49       318\n",
      "   macro avg       0.48      0.48      0.48       318\n",
      "weighted avg       0.49      0.49      0.49       318\n",
      "\n",
      "318/318 [==============================] - ETA:  - ETA:  - ETA:  - ETA:  - ETA:  - ETA:  - ETA:  - ETA:  - ETA:  - 2s 5ms/step\n",
      "Test loss: 0.7485827380006418:\n",
      "Test accuracy: 49.057 %\n"
     ]
    },
    {
     "data": {
      "image/png": "[encoded data removed]",
      "text/plain": [
       "<Figure size 360x360 with 2 Axes>"
      ]
     },
     "metadata": {
      "needs_background": "light"
     },
     "output_type": "display_data"
    },
    {
     "name": "stdout",
     "output_type": "stream",
     "text": [
      "mpike stin run_evaluate me step 15\n",
      "mpike stin preprocess\n",
      "mpike stin build_model\n",
      "Model metrics: f1=0.615 auc=0.546\n"
     ]
    },
    {
     "data": {
      "image/png": "[encoded data removed]",
      "text/plain": [
       "<Figure size 432x288 with 1 Axes>"
      ]
     },
     "metadata": {
      "needs_background": "light"
     },
     "output_type": "display_data"
    },
    {
     "name": "stdout",
     "output_type": "stream",
     "text": [
      "    0    1\n",
      "0  47  96 \n",
      "1  63  127\n",
      "              precision    recall  f1-score   support\n",
      "\n",
      "           0       0.43      0.33      0.37       143\n",
      "           1       0.57      0.67      0.62       190\n",
      "\n",
      "    accuracy                           0.52       333\n",
      "   macro avg       0.50      0.50      0.49       333\n",
      "weighted avg       0.51      0.52      0.51       333\n",
      "\n",
      "333/333 [==============================] - ETA:  - ETA:  - ETA:  - ETA:  - ETA:  - 1s 4ms/step\n",
      "Test loss: 0.7519956873701857:\n",
      "Test accuracy: 52.252 %\n"
     ]
    },
    {
     "data": {
      "image/png": "[encoded data removed]",
      "text/plain": [
       "<Figure size 360x360 with 2 Axes>"
      ]
     },
     "metadata": {
      "needs_background": "light"
     },
     "output_type": "display_data"
    },
    {
     "name": "stdout",
     "output_type": "stream",
     "text": [
      "mpike stin run_evaluate me step 5\n",
      "mpike stin preprocess\n",
      "mpike stin build_model\n",
      "Model metrics: f1=0.652 auc=0.625\n"
     ]
    },
    {
     "data": {
      "image/png": "[encoded data removed]",
      "text/plain": [
       "<Figure size 432x288 with 1 Axes>"
      ]
     },
     "metadata": {
      "needs_background": "light"
     },
     "output_type": "display_data"
    },
    {
     "name": "stdout",
     "output_type": "stream",
     "text": [
      "    0    1\n",
      "0  39  107\n",
      "1  50  147\n",
      "              precision    recall  f1-score   support\n",
      "\n",
      "           0       0.44      0.27      0.33       146\n",
      "           1       0.58      0.75      0.65       197\n",
      "\n",
      "    accuracy                           0.54       343\n",
      "   macro avg       0.51      0.51      0.49       343\n",
      "weighted avg       0.52      0.54      0.52       343\n",
      "\n",
      "343/343 [==============================] - ETA:  - ETA:  - ETA:  - ETA:  - 1s 3ms/step\n",
      "Test loss: 0.6803394168528454:\n",
      "Test accuracy: 54.227 %\n"
     ]
    },
    {
     "data": {
      "image/png": "[encoded data removed]",
      "text/plain": [
       "<Figure size 360x360 with 2 Axes>"
      ]
     },
     "metadata": {
      "needs_background": "light"
     },
     "output_type": "display_data"
    },
    {
     "data": {
      "image/png": "[encoded data removed]",
      "text/plain": [
       "<Figure size 360x360 with 1 Axes>"
      ]
     },
     "metadata": {
      "needs_background": "light"
     },
     "output_type": "display_data"
    }
   ],
   "source": [
    "steps,accuracies = run_evaluate_model(apple_train_df,[5,15,30,60],0.8,True,200)\n",
    "get_accuracy_steps(steps,accuracies)"
   ]
  },
  {
   "cell_type": "markdown",
   "metadata": {},
   "source": [
    "## Microsoft predict"
   ]
  },
  {
   "cell_type": "markdown",
   "metadata": {},
   "source": [
    "### Target variable distribution"
   ]
  },
  {
   "cell_type": "code",
   "execution_count": 103,
   "metadata": {},
   "outputs": [
    {
     "data": {
      "text/html": [
       "<div>\n",
       "<style scoped>\n",
       "    .dataframe tbody tr th:only-of-type {\n",
       "        vertical-align: middle;\n",
       "    }\n",
       "\n",
       "    .dataframe tbody tr th {\n",
       "        vertical-align: top;\n",
       "    }\n",
       "\n",
       "    .dataframe thead th {\n",
       "        text-align: right;\n",
       "    }\n",
       "</style>\n",
       "<table border=\"1\" class=\"dataframe\">\n",
       "  <thead>\n",
       "    <tr style=\"text-align: right;\">\n",
       "      <th></th>\n",
       "      <th>Count</th>\n",
       "    </tr>\n",
       "    <tr>\n",
       "      <th>Open</th>\n",
       "      <th></th>\n",
       "    </tr>\n",
       "  </thead>\n",
       "  <tbody>\n",
       "    <tr>\n",
       "      <td>0.0</td>\n",
       "      <td>641</td>\n",
       "    </tr>\n",
       "    <tr>\n",
       "      <td>1.0</td>\n",
       "      <td>793</td>\n",
       "    </tr>\n",
       "  </tbody>\n",
       "</table>\n",
       "</div>"
      ],
      "text/plain": [
       "      Count\n",
       "Open       \n",
       "0.0   641  \n",
       "1.0   793  "
      ]
     },
     "execution_count": 103,
     "metadata": {},
     "output_type": "execute_result"
    }
   ],
   "source": [
    "msft_Freq = msft_train_df.groupby('Open').count()\n",
    "msft_group =msft_Freq.rename(columns={'Open':'Open','sentiment':'Count'})\n",
    "msft_group"
   ]
  },
  {
   "cell_type": "code",
   "execution_count": 97,
   "metadata": {
    "scrolled": true
   },
   "outputs": [
    {
     "name": "stdout",
     "output_type": "stream",
     "text": [
      "mpike stin run_evaluate me step 60\n",
      "mpike stin preprocess\n",
      "mpike stin build_model\n",
      "Model metrics: f1=0.742 auc=0.588\n"
     ]
    },
    {
     "data": {
      "image/png": "[encoded data removed]",
      "text/plain": [
       "<Figure size 432x288 with 1 Axes>"
      ]
     },
     "metadata": {
      "needs_background": "light"
     },
     "output_type": "display_data"
    },
    {
     "name": "stdout",
     "output_type": "stream",
     "text": [
      "   0    1\n",
      "0  0  93 \n",
      "1  0  134\n"
     ]
    },
    {
     "name": "stderr",
     "output_type": "stream",
     "text": [
      "C:\\Users\\nicko\\Anaconda3\\lib\\site-packages\\sklearn\\metrics\\classification.py:1437: UndefinedMetricWarning: Precision and F-score are ill-defined and being set to 0.0 in labels with no predicted samples.\n",
      "  'precision', 'predicted', average, warn_for)\n"
     ]
    },
    {
     "name": "stdout",
     "output_type": "stream",
     "text": [
      "              precision    recall  f1-score   support\n",
      "\n",
      "           0       0.00      0.00      0.00        93\n",
      "           1       0.59      1.00      0.74       134\n",
      "\n",
      "    accuracy                           0.59       227\n",
      "   macro avg       0.30      0.50      0.37       227\n",
      "weighted avg       0.35      0.59      0.44       227\n",
      "\n",
      "227/227 [==============================] - ETA:  - ETA:  - ETA:  - ETA:  - ETA:  - ETA:  - ETA:  - 2s 9ms/step\n",
      "Test loss: 0.6797052734748907:\n",
      "Test accuracy: 59.031 %\n"
     ]
    },
    {
     "data": {
      "image/png": "[encoded data removed]",
      "text/plain": [
       "<Figure size 360x360 with 2 Axes>"
      ]
     },
     "metadata": {
      "needs_background": "light"
     },
     "output_type": "display_data"
    },
    {
     "name": "stdout",
     "output_type": "stream",
     "text": [
      "mpike stin run_evaluate me step 45\n",
      "mpike stin preprocess\n",
      "mpike stin build_model\n",
      "Model metrics: f1=0.743 auc=0.605\n"
     ]
    },
    {
     "data": {
      "image/png": "[encoded data removed]",
      "text/plain": [
       "<Figure size 432x288 with 1 Axes>"
      ]
     },
     "metadata": {
      "needs_background": "light"
     },
     "output_type": "display_data"
    },
    {
     "name": "stdout",
     "output_type": "stream",
     "text": [
      "   0    1\n",
      "0  0  99 \n",
      "1  0  143\n"
     ]
    },
    {
     "name": "stderr",
     "output_type": "stream",
     "text": [
      "C:\\Users\\nicko\\Anaconda3\\lib\\site-packages\\sklearn\\metrics\\classification.py:1437: UndefinedMetricWarning: Precision and F-score are ill-defined and being set to 0.0 in labels with no predicted samples.\n",
      "  'precision', 'predicted', average, warn_for)\n"
     ]
    },
    {
     "name": "stdout",
     "output_type": "stream",
     "text": [
      "              precision    recall  f1-score   support\n",
      "\n",
      "           0       0.00      0.00      0.00        99\n",
      "           1       0.59      1.00      0.74       143\n",
      "\n",
      "    accuracy                           0.59       242\n",
      "   macro avg       0.30      0.50      0.37       242\n",
      "weighted avg       0.35      0.59      0.44       242\n",
      "\n",
      "242/242 [==============================] - ETA:  - ETA:  - ETA:  - ETA:  - ETA:  - ETA:  - ETA:  - 2s 8ms/step\n",
      "Test loss: 0.6795929034879385:\n",
      "Test accuracy: 59.091 %\n"
     ]
    },
    {
     "data": {
      "image/png": "[encoded data removed]",
      "text/plain": [
       "<Figure size 360x360 with 2 Axes>"
      ]
     },
     "metadata": {
      "needs_background": "light"
     },
     "output_type": "display_data"
    },
    {
     "name": "stdout",
     "output_type": "stream",
     "text": [
      "mpike stin run_evaluate me step 30\n",
      "mpike stin preprocess\n",
      "mpike stin build_model\n",
      "Model metrics: f1=0.734 auc=0.600\n"
     ]
    },
    {
     "data": {
      "image/png": "[encoded data removed]",
      "text/plain": [
       "<Figure size 432x288 with 1 Axes>"
      ]
     },
     "metadata": {
      "needs_background": "light"
     },
     "output_type": "display_data"
    },
    {
     "name": "stdout",
     "output_type": "stream",
     "text": [
      "   0    1\n",
      "0  0  108\n",
      "1  0  149\n"
     ]
    },
    {
     "name": "stderr",
     "output_type": "stream",
     "text": [
      "C:\\Users\\nicko\\Anaconda3\\lib\\site-packages\\sklearn\\metrics\\classification.py:1437: UndefinedMetricWarning: Precision and F-score are ill-defined and being set to 0.0 in labels with no predicted samples.\n",
      "  'precision', 'predicted', average, warn_for)\n"
     ]
    },
    {
     "name": "stdout",
     "output_type": "stream",
     "text": [
      "              precision    recall  f1-score   support\n",
      "\n",
      "           0       0.00      0.00      0.00       108\n",
      "           1       0.58      1.00      0.73       149\n",
      "\n",
      "    accuracy                           0.58       257\n",
      "   macro avg       0.29      0.50      0.37       257\n",
      "weighted avg       0.34      0.58      0.43       257\n",
      "\n",
      "257/257 [==============================] - ETA:  - ETA:  - ETA:  - ETA:  - ETA:  - ETA:  - ETA:  - ETA:  - 2s 6ms/step\n",
      "Test loss: 0.6823549632432396:\n",
      "Test accuracy: 57.977 %\n"
     ]
    },
    {
     "data": {
      "image/png": "[encoded data removed]",
      "text/plain": [
       "<Figure size 360x360 with 2 Axes>"
      ]
     },
     "metadata": {
      "needs_background": "light"
     },
     "output_type": "display_data"
    },
    {
     "name": "stdout",
     "output_type": "stream",
     "text": [
      "mpike stin run_evaluate me step 15\n",
      "mpike stin preprocess\n",
      "mpike stin build_model\n",
      "Model metrics: f1=0.729 auc=0.573\n"
     ]
    },
    {
     "data": {
      "image/png": "[encoded data removed]",
      "text/plain": [
       "<Figure size 432x288 with 1 Axes>"
      ]
     },
     "metadata": {
      "needs_background": "light"
     },
     "output_type": "display_data"
    },
    {
     "name": "stdout",
     "output_type": "stream",
     "text": [
      "   0    1\n",
      "0  0  116\n",
      "1  0  156\n"
     ]
    },
    {
     "name": "stderr",
     "output_type": "stream",
     "text": [
      "C:\\Users\\nicko\\Anaconda3\\lib\\site-packages\\sklearn\\metrics\\classification.py:1437: UndefinedMetricWarning: Precision and F-score are ill-defined and being set to 0.0 in labels with no predicted samples.\n",
      "  'precision', 'predicted', average, warn_for)\n"
     ]
    },
    {
     "name": "stdout",
     "output_type": "stream",
     "text": [
      "              precision    recall  f1-score   support\n",
      "\n",
      "           0       0.00      0.00      0.00       116\n",
      "           1       0.57      1.00      0.73       156\n",
      "\n",
      "    accuracy                           0.57       272\n",
      "   macro avg       0.29      0.50      0.36       272\n",
      "weighted avg       0.33      0.57      0.42       272\n",
      "\n",
      "272/272 [==============================] - ETA:  - ETA:  - ETA:  - ETA:  - ETA:  - ETA:  - 1s 5ms/step\n",
      "Test loss: 0.6833967952167287:\n",
      "Test accuracy: 57.353 %\n"
     ]
    },
    {
     "data": {
      "image/png": "[encoded data removed]",
      "text/plain": [
       "<Figure size 360x360 with 2 Axes>"
      ]
     },
     "metadata": {
      "needs_background": "light"
     },
     "output_type": "display_data"
    },
    {
     "name": "stdout",
     "output_type": "stream",
     "text": [
      "mpike stin run_evaluate me step 5\n",
      "mpike stin preprocess\n",
      "mpike stin build_model\n",
      "Model metrics: f1=0.721 auc=0.603\n"
     ]
    },
    {
     "data": {
      "image/png": "[encoded data removed]",
      "text/plain": [
       "<Figure size 432x288 with 1 Axes>"
      ]
     },
     "metadata": {
      "needs_background": "light"
     },
     "output_type": "display_data"
    },
    {
     "name": "stdout",
     "output_type": "stream",
     "text": [
      "   0    1\n",
      "0  0  123\n",
      "1  0  159\n"
     ]
    },
    {
     "name": "stderr",
     "output_type": "stream",
     "text": [
      "C:\\Users\\nicko\\Anaconda3\\lib\\site-packages\\sklearn\\metrics\\classification.py:1437: UndefinedMetricWarning: Precision and F-score are ill-defined and being set to 0.0 in labels with no predicted samples.\n",
      "  'precision', 'predicted', average, warn_for)\n"
     ]
    },
    {
     "name": "stdout",
     "output_type": "stream",
     "text": [
      "              precision    recall  f1-score   support\n",
      "\n",
      "           0       0.00      0.00      0.00       123\n",
      "           1       0.56      1.00      0.72       159\n",
      "\n",
      "    accuracy                           0.56       282\n",
      "   macro avg       0.28      0.50      0.36       282\n",
      "weighted avg       0.32      0.56      0.41       282\n",
      "\n",
      "282/282 [==============================] - ETA:  - ETA:  - ETA:  - 1s 4ms/step\n",
      "Test loss: 0.6853475727088062:\n",
      "Test accuracy: 56.383 %\n"
     ]
    },
    {
     "data": {
      "image/png": "[encoded data removed]",
      "text/plain": [
       "<Figure size 360x360 with 2 Axes>"
      ]
     },
     "metadata": {
      "needs_background": "light"
     },
     "output_type": "display_data"
    },
    {
     "data": {
      "image/png": "[encoded data removed]",
      "text/plain": [
       "<Figure size 360x360 with 1 Axes>"
      ]
     },
     "metadata": {
      "needs_background": "light"
     },
     "output_type": "display_data"
    }
   ],
   "source": [
    "steps,accuracies = run_evaluate_model(msft_train_df,[60,45,30,15,5],0.8,True,150)\n",
    "get_accuracy_steps(steps,accuracies)"
   ]
  }
 ],
 "metadata": {
  "kernelspec": {
   "display_name": "Python 3",
   "language": "python",
   "name": "python3"
  },
  "language_info": {
   "codemirror_mode": {
    "name": "ipython",
    "version": 3
   },
   "file_extension": ".py",
   "mimetype": "text/x-python",
   "name": "python",
   "nbconvert_exporter": "python",
   "pygments_lexer": "ipython3",
   "version": "3.7.4"
  }
 },
 "nbformat": 4,
 "nbformat_minor": 2
}
